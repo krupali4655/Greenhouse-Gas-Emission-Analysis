{
  "cells": [
    {
      "cell_type": "markdown",
      "id": "63a70977",
      "metadata": {
        "id": "63a70977"
      },
      "source": [
        "# Data Preparation"
      ]
    },
    {
      "cell_type": "code",
      "execution_count": null,
      "id": "e463db52",
      "metadata": {
        "id": "e463db52"
      },
      "outputs": [],
      "source": [
        "# Importing necessary libraries\n",
        "import pandas as pd\n",
        "import numpy as np\n",
        "import matplotlib.pyplot as plt\n",
        "import seaborn as sns\n",
        "\n",
        "\n",
        "import warnings\n",
        "warnings.filterwarnings('ignore')"
      ]
    },
    {
      "cell_type": "code",
      "execution_count": null,
      "id": "42181e37",
      "metadata": {
        "id": "42181e37"
      },
      "outputs": [],
      "source": [
        "# Reading the temperature data\n",
        "temp = pd.read_csv('GlobalLandTemperaturesByCountry.csv')"
      ]
    },
    {
      "cell_type": "code",
      "execution_count": null,
      "id": "04d1b180",
      "metadata": {
        "id": "04d1b180",
        "outputId": "624314c0-bb34-467d-f252-18f20943ef38"
      },
      "outputs": [
        {
          "data": {
            "text/html": [
              "<div>\n",
              "<style scoped>\n",
              "    .dataframe tbody tr th:only-of-type {\n",
              "        vertical-align: middle;\n",
              "    }\n",
              "\n",
              "    .dataframe tbody tr th {\n",
              "        vertical-align: top;\n",
              "    }\n",
              "\n",
              "    .dataframe thead th {\n",
              "        text-align: right;\n",
              "    }\n",
              "</style>\n",
              "<table border=\"1\" class=\"dataframe\">\n",
              "  <thead>\n",
              "    <tr style=\"text-align: right;\">\n",
              "      <th></th>\n",
              "      <th>dt</th>\n",
              "      <th>AverageTemperature</th>\n",
              "      <th>AverageTemperatureUncertainty</th>\n",
              "      <th>Country</th>\n",
              "    </tr>\n",
              "  </thead>\n",
              "  <tbody>\n",
              "    <tr>\n",
              "      <th>0</th>\n",
              "      <td>1743-11-01</td>\n",
              "      <td>4.384</td>\n",
              "      <td>2.294</td>\n",
              "      <td>Åland</td>\n",
              "    </tr>\n",
              "    <tr>\n",
              "      <th>1</th>\n",
              "      <td>1743-12-01</td>\n",
              "      <td>NaN</td>\n",
              "      <td>NaN</td>\n",
              "      <td>Åland</td>\n",
              "    </tr>\n",
              "    <tr>\n",
              "      <th>2</th>\n",
              "      <td>1744-01-01</td>\n",
              "      <td>NaN</td>\n",
              "      <td>NaN</td>\n",
              "      <td>Åland</td>\n",
              "    </tr>\n",
              "    <tr>\n",
              "      <th>3</th>\n",
              "      <td>1744-02-01</td>\n",
              "      <td>NaN</td>\n",
              "      <td>NaN</td>\n",
              "      <td>Åland</td>\n",
              "    </tr>\n",
              "    <tr>\n",
              "      <th>4</th>\n",
              "      <td>1744-03-01</td>\n",
              "      <td>NaN</td>\n",
              "      <td>NaN</td>\n",
              "      <td>Åland</td>\n",
              "    </tr>\n",
              "  </tbody>\n",
              "</table>\n",
              "</div>"
            ],
            "text/plain": [
              "           dt  AverageTemperature  AverageTemperatureUncertainty Country\n",
              "0  1743-11-01               4.384                          2.294   Åland\n",
              "1  1743-12-01                 NaN                            NaN   Åland\n",
              "2  1744-01-01                 NaN                            NaN   Åland\n",
              "3  1744-02-01                 NaN                            NaN   Åland\n",
              "4  1744-03-01                 NaN                            NaN   Åland"
            ]
          },
          "execution_count": 3,
          "metadata": {},
          "output_type": "execute_result"
        }
      ],
      "source": [
        "#Inspecting the top 5 rows of the data\n",
        "temp.head()"
      ]
    },
    {
      "cell_type": "code",
      "execution_count": null,
      "id": "5a0e468a",
      "metadata": {
        "id": "5a0e468a"
      },
      "outputs": [],
      "source": [
        "# Converting data  column to date format\n",
        "temp['date'] = pd.to_datetime(temp['dt'])"
      ]
    },
    {
      "cell_type": "code",
      "execution_count": null,
      "id": "47c57cac",
      "metadata": {
        "scrolled": true,
        "id": "47c57cac",
        "outputId": "fdf44ba3-6e60-4e9f-9d14-ce62c1044e76"
      },
      "outputs": [
        {
          "data": {
            "text/html": [
              "<div>\n",
              "<style scoped>\n",
              "    .dataframe tbody tr th:only-of-type {\n",
              "        vertical-align: middle;\n",
              "    }\n",
              "\n",
              "    .dataframe tbody tr th {\n",
              "        vertical-align: top;\n",
              "    }\n",
              "\n",
              "    .dataframe thead th {\n",
              "        text-align: right;\n",
              "    }\n",
              "</style>\n",
              "<table border=\"1\" class=\"dataframe\">\n",
              "  <thead>\n",
              "    <tr style=\"text-align: right;\">\n",
              "      <th></th>\n",
              "      <th>dt</th>\n",
              "      <th>AverageTemperature</th>\n",
              "      <th>AverageTemperatureUncertainty</th>\n",
              "      <th>Country</th>\n",
              "      <th>date</th>\n",
              "      <th>year</th>\n",
              "    </tr>\n",
              "  </thead>\n",
              "  <tbody>\n",
              "    <tr>\n",
              "      <th>0</th>\n",
              "      <td>1743-11-01</td>\n",
              "      <td>4.384</td>\n",
              "      <td>2.294</td>\n",
              "      <td>Åland</td>\n",
              "      <td>1743-11-01</td>\n",
              "      <td>1743</td>\n",
              "    </tr>\n",
              "    <tr>\n",
              "      <th>1</th>\n",
              "      <td>1743-12-01</td>\n",
              "      <td>NaN</td>\n",
              "      <td>NaN</td>\n",
              "      <td>Åland</td>\n",
              "      <td>1743-12-01</td>\n",
              "      <td>1743</td>\n",
              "    </tr>\n",
              "    <tr>\n",
              "      <th>2</th>\n",
              "      <td>1744-01-01</td>\n",
              "      <td>NaN</td>\n",
              "      <td>NaN</td>\n",
              "      <td>Åland</td>\n",
              "      <td>1744-01-01</td>\n",
              "      <td>1744</td>\n",
              "    </tr>\n",
              "    <tr>\n",
              "      <th>3</th>\n",
              "      <td>1744-02-01</td>\n",
              "      <td>NaN</td>\n",
              "      <td>NaN</td>\n",
              "      <td>Åland</td>\n",
              "      <td>1744-02-01</td>\n",
              "      <td>1744</td>\n",
              "    </tr>\n",
              "    <tr>\n",
              "      <th>4</th>\n",
              "      <td>1744-03-01</td>\n",
              "      <td>NaN</td>\n",
              "      <td>NaN</td>\n",
              "      <td>Åland</td>\n",
              "      <td>1744-03-01</td>\n",
              "      <td>1744</td>\n",
              "    </tr>\n",
              "  </tbody>\n",
              "</table>\n",
              "</div>"
            ],
            "text/plain": [
              "           dt  AverageTemperature  AverageTemperatureUncertainty Country  \\\n",
              "0  1743-11-01               4.384                          2.294   Åland   \n",
              "1  1743-12-01                 NaN                            NaN   Åland   \n",
              "2  1744-01-01                 NaN                            NaN   Åland   \n",
              "3  1744-02-01                 NaN                            NaN   Åland   \n",
              "4  1744-03-01                 NaN                            NaN   Åland   \n",
              "\n",
              "        date  year  \n",
              "0 1743-11-01  1743  \n",
              "1 1743-12-01  1743  \n",
              "2 1744-01-01  1744  \n",
              "3 1744-02-01  1744  \n",
              "4 1744-03-01  1744  "
            ]
          },
          "execution_count": 5,
          "metadata": {},
          "output_type": "execute_result"
        }
      ],
      "source": [
        "# Extracting year from data\n",
        "temp['year'] = temp['date'].dt.year\n",
        "temp.head()"
      ]
    },
    {
      "cell_type": "code",
      "execution_count": null,
      "id": "4f83614b",
      "metadata": {
        "id": "4f83614b",
        "outputId": "9eda6bb0-f47b-414e-a53b-4dccfcf0f9bb"
      },
      "outputs": [
        {
          "data": {
            "text/plain": [
              "dt                                   0\n",
              "AverageTemperature               32651\n",
              "AverageTemperatureUncertainty    31912\n",
              "Country                              0\n",
              "date                                 0\n",
              "year                                 0\n",
              "dtype: int64"
            ]
          },
          "execution_count": 6,
          "metadata": {},
          "output_type": "execute_result"
        }
      ],
      "source": [
        "# Checking for null values\n",
        "temp.isnull().sum()"
      ]
    },
    {
      "cell_type": "code",
      "execution_count": null,
      "id": "58f026dc",
      "metadata": {
        "id": "58f026dc",
        "outputId": "abcdc3b2-4a27-44d6-d19f-18513e811dd7"
      },
      "outputs": [
        {
          "data": {
            "text/html": [
              "<div>\n",
              "<style scoped>\n",
              "    .dataframe tbody tr th:only-of-type {\n",
              "        vertical-align: middle;\n",
              "    }\n",
              "\n",
              "    .dataframe tbody tr th {\n",
              "        vertical-align: top;\n",
              "    }\n",
              "\n",
              "    .dataframe thead th {\n",
              "        text-align: right;\n",
              "    }\n",
              "</style>\n",
              "<table border=\"1\" class=\"dataframe\">\n",
              "  <thead>\n",
              "    <tr style=\"text-align: right;\">\n",
              "      <th></th>\n",
              "      <th>dt</th>\n",
              "      <th>AverageTemperature</th>\n",
              "      <th>AverageTemperatureUncertainty</th>\n",
              "      <th>Country</th>\n",
              "      <th>date</th>\n",
              "      <th>year</th>\n",
              "    </tr>\n",
              "  </thead>\n",
              "  <tbody>\n",
              "    <tr>\n",
              "      <th>0</th>\n",
              "      <td>1743-11-01</td>\n",
              "      <td>4.384</td>\n",
              "      <td>2.294</td>\n",
              "      <td>Åland</td>\n",
              "      <td>1743-11-01</td>\n",
              "      <td>1743</td>\n",
              "    </tr>\n",
              "    <tr>\n",
              "      <th>5</th>\n",
              "      <td>1744-04-01</td>\n",
              "      <td>1.530</td>\n",
              "      <td>4.680</td>\n",
              "      <td>Åland</td>\n",
              "      <td>1744-04-01</td>\n",
              "      <td>1744</td>\n",
              "    </tr>\n",
              "    <tr>\n",
              "      <th>6</th>\n",
              "      <td>1744-05-01</td>\n",
              "      <td>6.702</td>\n",
              "      <td>1.789</td>\n",
              "      <td>Åland</td>\n",
              "      <td>1744-05-01</td>\n",
              "      <td>1744</td>\n",
              "    </tr>\n",
              "    <tr>\n",
              "      <th>7</th>\n",
              "      <td>1744-06-01</td>\n",
              "      <td>11.609</td>\n",
              "      <td>1.577</td>\n",
              "      <td>Åland</td>\n",
              "      <td>1744-06-01</td>\n",
              "      <td>1744</td>\n",
              "    </tr>\n",
              "    <tr>\n",
              "      <th>8</th>\n",
              "      <td>1744-07-01</td>\n",
              "      <td>15.342</td>\n",
              "      <td>1.410</td>\n",
              "      <td>Åland</td>\n",
              "      <td>1744-07-01</td>\n",
              "      <td>1744</td>\n",
              "    </tr>\n",
              "  </tbody>\n",
              "</table>\n",
              "</div>"
            ],
            "text/plain": [
              "           dt  AverageTemperature  AverageTemperatureUncertainty Country  \\\n",
              "0  1743-11-01               4.384                          2.294   Åland   \n",
              "5  1744-04-01               1.530                          4.680   Åland   \n",
              "6  1744-05-01               6.702                          1.789   Åland   \n",
              "7  1744-06-01              11.609                          1.577   Åland   \n",
              "8  1744-07-01              15.342                          1.410   Åland   \n",
              "\n",
              "        date  year  \n",
              "0 1743-11-01  1743  \n",
              "5 1744-04-01  1744  \n",
              "6 1744-05-01  1744  \n",
              "7 1744-06-01  1744  \n",
              "8 1744-07-01  1744  "
            ]
          },
          "execution_count": 7,
          "metadata": {},
          "output_type": "execute_result"
        }
      ],
      "source": [
        "# Removing null values\n",
        "data = temp.dropna()\n",
        "data.head()"
      ]
    },
    {
      "cell_type": "code",
      "execution_count": null,
      "id": "9ae9e227",
      "metadata": {
        "id": "9ae9e227",
        "outputId": "3e4e0532-b1af-4902-d63d-1a28be940de6"
      },
      "outputs": [
        {
          "data": {
            "text/html": [
              "<div>\n",
              "<style scoped>\n",
              "    .dataframe tbody tr th:only-of-type {\n",
              "        vertical-align: middle;\n",
              "    }\n",
              "\n",
              "    .dataframe tbody tr th {\n",
              "        vertical-align: top;\n",
              "    }\n",
              "\n",
              "    .dataframe thead th {\n",
              "        text-align: right;\n",
              "    }\n",
              "</style>\n",
              "<table border=\"1\" class=\"dataframe\">\n",
              "  <thead>\n",
              "    <tr style=\"text-align: right;\">\n",
              "      <th></th>\n",
              "      <th>year</th>\n",
              "      <th>AverageTemperature</th>\n",
              "      <th>Country</th>\n",
              "    </tr>\n",
              "  </thead>\n",
              "  <tbody>\n",
              "    <tr>\n",
              "      <th>0</th>\n",
              "      <td>1743</td>\n",
              "      <td>4.384</td>\n",
              "      <td>Åland</td>\n",
              "    </tr>\n",
              "    <tr>\n",
              "      <th>5</th>\n",
              "      <td>1744</td>\n",
              "      <td>1.530</td>\n",
              "      <td>Åland</td>\n",
              "    </tr>\n",
              "    <tr>\n",
              "      <th>6</th>\n",
              "      <td>1744</td>\n",
              "      <td>6.702</td>\n",
              "      <td>Åland</td>\n",
              "    </tr>\n",
              "    <tr>\n",
              "      <th>7</th>\n",
              "      <td>1744</td>\n",
              "      <td>11.609</td>\n",
              "      <td>Åland</td>\n",
              "    </tr>\n",
              "    <tr>\n",
              "      <th>8</th>\n",
              "      <td>1744</td>\n",
              "      <td>15.342</td>\n",
              "      <td>Åland</td>\n",
              "    </tr>\n",
              "  </tbody>\n",
              "</table>\n",
              "</div>"
            ],
            "text/plain": [
              "   year  AverageTemperature Country\n",
              "0  1743               4.384   Åland\n",
              "5  1744               1.530   Åland\n",
              "6  1744               6.702   Åland\n",
              "7  1744              11.609   Åland\n",
              "8  1744              15.342   Åland"
            ]
          },
          "execution_count": 8,
          "metadata": {},
          "output_type": "execute_result"
        }
      ],
      "source": [
        "# creating a new dataframe with only required columns\n",
        "df = data[['year', 'AverageTemperature', 'Country']]\n",
        "df.head()"
      ]
    },
    {
      "cell_type": "code",
      "execution_count": null,
      "id": "09e3947e",
      "metadata": {
        "id": "09e3947e",
        "outputId": "df60a115-8860-4e48-959a-942f31fb1d7a"
      },
      "outputs": [
        {
          "data": {
            "text/html": [
              "<div>\n",
              "<style scoped>\n",
              "    .dataframe tbody tr th:only-of-type {\n",
              "        vertical-align: middle;\n",
              "    }\n",
              "\n",
              "    .dataframe tbody tr th {\n",
              "        vertical-align: top;\n",
              "    }\n",
              "\n",
              "    .dataframe thead th {\n",
              "        text-align: right;\n",
              "    }\n",
              "</style>\n",
              "<table border=\"1\" class=\"dataframe\">\n",
              "  <thead>\n",
              "    <tr style=\"text-align: right;\">\n",
              "      <th></th>\n",
              "      <th>year</th>\n",
              "      <th>Country</th>\n",
              "      <th>mean</th>\n",
              "      <th>median</th>\n",
              "      <th>max</th>\n",
              "      <th>min</th>\n",
              "      <th>var</th>\n",
              "    </tr>\n",
              "  </thead>\n",
              "  <tbody>\n",
              "    <tr>\n",
              "      <th>0</th>\n",
              "      <td>1970</td>\n",
              "      <td>Afghanistan</td>\n",
              "      <td>14.783083</td>\n",
              "      <td>15.4710</td>\n",
              "      <td>26.862</td>\n",
              "      <td>1.337</td>\n",
              "      <td>88.552117</td>\n",
              "    </tr>\n",
              "    <tr>\n",
              "      <th>1</th>\n",
              "      <td>1970</td>\n",
              "      <td>Africa</td>\n",
              "      <td>24.321583</td>\n",
              "      <td>25.0370</td>\n",
              "      <td>25.910</td>\n",
              "      <td>20.988</td>\n",
              "      <td>2.772779</td>\n",
              "    </tr>\n",
              "    <tr>\n",
              "      <th>2</th>\n",
              "      <td>1970</td>\n",
              "      <td>Albania</td>\n",
              "      <td>12.839667</td>\n",
              "      <td>12.1245</td>\n",
              "      <td>22.264</td>\n",
              "      <td>5.172</td>\n",
              "      <td>42.221893</td>\n",
              "    </tr>\n",
              "    <tr>\n",
              "      <th>3</th>\n",
              "      <td>1970</td>\n",
              "      <td>Algeria</td>\n",
              "      <td>23.322833</td>\n",
              "      <td>22.5930</td>\n",
              "      <td>33.709</td>\n",
              "      <td>13.013</td>\n",
              "      <td>57.599106</td>\n",
              "    </tr>\n",
              "    <tr>\n",
              "      <th>4</th>\n",
              "      <td>1970</td>\n",
              "      <td>American Samoa</td>\n",
              "      <td>26.760667</td>\n",
              "      <td>26.8540</td>\n",
              "      <td>27.678</td>\n",
              "      <td>25.896</td>\n",
              "      <td>0.406978</td>\n",
              "    </tr>\n",
              "    <tr>\n",
              "      <th>...</th>\n",
              "      <td>...</td>\n",
              "      <td>...</td>\n",
              "      <td>...</td>\n",
              "      <td>...</td>\n",
              "      <td>...</td>\n",
              "      <td>...</td>\n",
              "      <td>...</td>\n",
              "    </tr>\n",
              "    <tr>\n",
              "      <th>10643</th>\n",
              "      <td>2013</td>\n",
              "      <td>Western Sahara</td>\n",
              "      <td>23.744250</td>\n",
              "      <td>24.2745</td>\n",
              "      <td>28.564</td>\n",
              "      <td>17.461</td>\n",
              "      <td>16.122841</td>\n",
              "    </tr>\n",
              "    <tr>\n",
              "      <th>10644</th>\n",
              "      <td>2013</td>\n",
              "      <td>Yemen</td>\n",
              "      <td>28.129750</td>\n",
              "      <td>30.0215</td>\n",
              "      <td>32.325</td>\n",
              "      <td>21.567</td>\n",
              "      <td>16.993068</td>\n",
              "    </tr>\n",
              "    <tr>\n",
              "      <th>10645</th>\n",
              "      <td>2013</td>\n",
              "      <td>Zambia</td>\n",
              "      <td>21.196000</td>\n",
              "      <td>21.2985</td>\n",
              "      <td>23.636</td>\n",
              "      <td>18.266</td>\n",
              "      <td>4.310316</td>\n",
              "    </tr>\n",
              "    <tr>\n",
              "      <th>10646</th>\n",
              "      <td>2013</td>\n",
              "      <td>Zimbabwe</td>\n",
              "      <td>20.710750</td>\n",
              "      <td>20.4505</td>\n",
              "      <td>24.075</td>\n",
              "      <td>17.000</td>\n",
              "      <td>7.778317</td>\n",
              "    </tr>\n",
              "    <tr>\n",
              "      <th>10647</th>\n",
              "      <td>2013</td>\n",
              "      <td>Åland</td>\n",
              "      <td>6.229750</td>\n",
              "      <td>6.0140</td>\n",
              "      <td>16.447</td>\n",
              "      <td>-4.779</td>\n",
              "      <td>81.409890</td>\n",
              "    </tr>\n",
              "  </tbody>\n",
              "</table>\n",
              "<p>10648 rows × 7 columns</p>\n",
              "</div>"
            ],
            "text/plain": [
              "       year         Country       mean   median     max     min        var\n",
              "0      1970     Afghanistan  14.783083  15.4710  26.862   1.337  88.552117\n",
              "1      1970          Africa  24.321583  25.0370  25.910  20.988   2.772779\n",
              "2      1970         Albania  12.839667  12.1245  22.264   5.172  42.221893\n",
              "3      1970         Algeria  23.322833  22.5930  33.709  13.013  57.599106\n",
              "4      1970  American Samoa  26.760667  26.8540  27.678  25.896   0.406978\n",
              "...     ...             ...        ...      ...     ...     ...        ...\n",
              "10643  2013  Western Sahara  23.744250  24.2745  28.564  17.461  16.122841\n",
              "10644  2013           Yemen  28.129750  30.0215  32.325  21.567  16.993068\n",
              "10645  2013          Zambia  21.196000  21.2985  23.636  18.266   4.310316\n",
              "10646  2013        Zimbabwe  20.710750  20.4505  24.075  17.000   7.778317\n",
              "10647  2013           Åland   6.229750   6.0140  16.447  -4.779  81.409890\n",
              "\n",
              "[10648 rows x 7 columns]"
            ]
          },
          "execution_count": 9,
          "metadata": {},
          "output_type": "execute_result"
        }
      ],
      "source": [
        "# Getting the data with records that are from 1970\n",
        "df1 = df[df['year']>1969]\n",
        "final_df = df1.groupby(['year', 'Country'])['AverageTemperature'].agg(['mean','median', 'max', 'min', 'var']).reset_index()\n",
        "final_df"
      ]
    },
    {
      "cell_type": "markdown",
      "id": "57407397",
      "metadata": {
        "id": "57407397"
      },
      "source": [
        "### CO2 emission"
      ]
    },
    {
      "cell_type": "code",
      "execution_count": null,
      "id": "92887e28",
      "metadata": {
        "id": "92887e28",
        "outputId": "0f255fe6-8a9e-44ce-f24c-0178f53484b7"
      },
      "outputs": [
        {
          "data": {
            "text/html": [
              "<div>\n",
              "<style scoped>\n",
              "    .dataframe tbody tr th:only-of-type {\n",
              "        vertical-align: middle;\n",
              "    }\n",
              "\n",
              "    .dataframe tbody tr th {\n",
              "        vertical-align: top;\n",
              "    }\n",
              "\n",
              "    .dataframe thead th {\n",
              "        text-align: right;\n",
              "    }\n",
              "</style>\n",
              "<table border=\"1\" class=\"dataframe\">\n",
              "  <thead>\n",
              "    <tr style=\"text-align: right;\">\n",
              "      <th></th>\n",
              "      <th>year</th>\n",
              "      <th>Country</th>\n",
              "      <th>mean_temp</th>\n",
              "      <th>median_temp</th>\n",
              "      <th>max_temp</th>\n",
              "      <th>min_temp</th>\n",
              "      <th>variance_temp</th>\n",
              "      <th>emission</th>\n",
              "    </tr>\n",
              "  </thead>\n",
              "  <tbody>\n",
              "    <tr>\n",
              "      <th>0</th>\n",
              "      <td>1970</td>\n",
              "      <td>Afghanistan</td>\n",
              "      <td>14.783083</td>\n",
              "      <td>15.4710</td>\n",
              "      <td>26.862</td>\n",
              "      <td>1.337</td>\n",
              "      <td>88.552117</td>\n",
              "      <td>1.718206</td>\n",
              "    </tr>\n",
              "    <tr>\n",
              "      <th>1</th>\n",
              "      <td>1970</td>\n",
              "      <td>Albania</td>\n",
              "      <td>12.839667</td>\n",
              "      <td>12.1245</td>\n",
              "      <td>22.264</td>\n",
              "      <td>5.172</td>\n",
              "      <td>42.221893</td>\n",
              "      <td>4.813550</td>\n",
              "    </tr>\n",
              "    <tr>\n",
              "      <th>2</th>\n",
              "      <td>1970</td>\n",
              "      <td>Algeria</td>\n",
              "      <td>23.322833</td>\n",
              "      <td>22.5930</td>\n",
              "      <td>33.709</td>\n",
              "      <td>13.013</td>\n",
              "      <td>57.599106</td>\n",
              "      <td>18.931573</td>\n",
              "    </tr>\n",
              "    <tr>\n",
              "      <th>3</th>\n",
              "      <td>1970</td>\n",
              "      <td>Angola</td>\n",
              "      <td>22.149833</td>\n",
              "      <td>23.0415</td>\n",
              "      <td>23.493</td>\n",
              "      <td>19.110</td>\n",
              "      <td>2.719536</td>\n",
              "      <td>8.952568</td>\n",
              "    </tr>\n",
              "    <tr>\n",
              "      <th>4</th>\n",
              "      <td>1970</td>\n",
              "      <td>Anguilla</td>\n",
              "      <td>26.916167</td>\n",
              "      <td>27.0115</td>\n",
              "      <td>28.200</td>\n",
              "      <td>25.549</td>\n",
              "      <td>1.086153</td>\n",
              "      <td>0.002168</td>\n",
              "    </tr>\n",
              "  </tbody>\n",
              "</table>\n",
              "</div>"
            ],
            "text/plain": [
              "   year      Country  mean_temp  median_temp  max_temp  min_temp  \\\n",
              "0  1970  Afghanistan  14.783083      15.4710    26.862     1.337   \n",
              "1  1970      Albania  12.839667      12.1245    22.264     5.172   \n",
              "2  1970      Algeria  23.322833      22.5930    33.709    13.013   \n",
              "3  1970       Angola  22.149833      23.0415    23.493    19.110   \n",
              "4  1970     Anguilla  26.916167      27.0115    28.200    25.549   \n",
              "\n",
              "   variance_temp   emission  \n",
              "0      88.552117   1.718206  \n",
              "1      42.221893   4.813550  \n",
              "2      57.599106  18.931573  \n",
              "3       2.719536   8.952568  \n",
              "4       1.086153   0.002168  "
            ]
          },
          "execution_count": 10,
          "metadata": {},
          "output_type": "execute_result"
        }
      ],
      "source": [
        "# Creating a total co2 emission data frame\n",
        "co2 = pd.read_excel('ghg.xls', sheet_name = 'fossil_CO2_totals_by_country')\n",
        "co2_pivot = pd.melt(co2, id_vars = ['Country'], value_vars = [1970,      1971,      1972,      1973,      1974,\n",
        "            1975,      1976,      1977,      1978,      1979,      1980,\n",
        "            1981,      1982,      1983,      1984,      1985,      1986,\n",
        "            1987,      1988,      1989,      1990,      1991,      1992,\n",
        "            1993,      1994,      1995,      1996,      1997,      1998,\n",
        "            1999,      2000,      2001,      2002,      2003,      2004,\n",
        "            2005,      2006,      2007,      2008,      2009,      2010,\n",
        "            2011,      2012,      2013,      2014,      2015,      2016,\n",
        "            2017,      2018,      2019,      2020], var_name = 'year', value_name = 'emission')\n",
        "co2_data =  pd.merge(final_df, co2_pivot, on = ['Country', 'year'], how=\"inner\")\n",
        "co2_data = co2_data.rename(columns = {'mean':'mean_temp','min':'min_temp', 'median':'median_temp', 'max':'max_temp', 'var':'variance_temp'})\n",
        "co2_data.head()"
      ]
    },
    {
      "cell_type": "code",
      "execution_count": null,
      "id": "4cef53f0",
      "metadata": {
        "id": "4cef53f0"
      },
      "outputs": [],
      "source": [
        "# Exporting to csv file of above dataframe\n",
        "co2_data.to_csv('co2_emission.csv')"
      ]
    },
    {
      "cell_type": "markdown",
      "id": "05be4eca",
      "metadata": {
        "id": "05be4eca"
      },
      "source": [
        "### Co2 emission per sector"
      ]
    },
    {
      "cell_type": "code",
      "execution_count": null,
      "id": "77725122",
      "metadata": {
        "scrolled": true,
        "id": "77725122",
        "outputId": "c07ad675-4514-4483-98f8-c255bb7c7b78"
      },
      "outputs": [
        {
          "data": {
            "text/html": [
              "<div>\n",
              "<style scoped>\n",
              "    .dataframe tbody tr th:only-of-type {\n",
              "        vertical-align: middle;\n",
              "    }\n",
              "\n",
              "    .dataframe tbody tr th {\n",
              "        vertical-align: top;\n",
              "    }\n",
              "\n",
              "    .dataframe thead th {\n",
              "        text-align: right;\n",
              "    }\n",
              "</style>\n",
              "<table border=\"1\" class=\"dataframe\">\n",
              "  <thead>\n",
              "    <tr style=\"text-align: right;\">\n",
              "      <th></th>\n",
              "      <th>year</th>\n",
              "      <th>Country</th>\n",
              "      <th>mean_temp</th>\n",
              "      <th>median_temp</th>\n",
              "      <th>max_temp</th>\n",
              "      <th>min_temp</th>\n",
              "      <th>variance_temp</th>\n",
              "      <th>Sector</th>\n",
              "      <th>emission</th>\n",
              "    </tr>\n",
              "  </thead>\n",
              "  <tbody>\n",
              "    <tr>\n",
              "      <th>0</th>\n",
              "      <td>1970</td>\n",
              "      <td>Afghanistan</td>\n",
              "      <td>14.783083</td>\n",
              "      <td>15.471</td>\n",
              "      <td>26.862</td>\n",
              "      <td>1.337</td>\n",
              "      <td>88.552117</td>\n",
              "      <td>Power Industry</td>\n",
              "      <td>0.055674</td>\n",
              "    </tr>\n",
              "    <tr>\n",
              "      <th>1</th>\n",
              "      <td>1970</td>\n",
              "      <td>Afghanistan</td>\n",
              "      <td>14.783083</td>\n",
              "      <td>15.471</td>\n",
              "      <td>26.862</td>\n",
              "      <td>1.337</td>\n",
              "      <td>88.552117</td>\n",
              "      <td>Buildings</td>\n",
              "      <td>0.789134</td>\n",
              "    </tr>\n",
              "    <tr>\n",
              "      <th>2</th>\n",
              "      <td>1970</td>\n",
              "      <td>Afghanistan</td>\n",
              "      <td>14.783083</td>\n",
              "      <td>15.471</td>\n",
              "      <td>26.862</td>\n",
              "      <td>1.337</td>\n",
              "      <td>88.552117</td>\n",
              "      <td>Transport</td>\n",
              "      <td>0.228480</td>\n",
              "    </tr>\n",
              "    <tr>\n",
              "      <th>3</th>\n",
              "      <td>1970</td>\n",
              "      <td>Afghanistan</td>\n",
              "      <td>14.783083</td>\n",
              "      <td>15.471</td>\n",
              "      <td>26.862</td>\n",
              "      <td>1.337</td>\n",
              "      <td>88.552117</td>\n",
              "      <td>Other industrial combustion</td>\n",
              "      <td>0.102457</td>\n",
              "    </tr>\n",
              "    <tr>\n",
              "      <th>4</th>\n",
              "      <td>1970</td>\n",
              "      <td>Afghanistan</td>\n",
              "      <td>14.783083</td>\n",
              "      <td>15.471</td>\n",
              "      <td>26.862</td>\n",
              "      <td>1.337</td>\n",
              "      <td>88.552117</td>\n",
              "      <td>Other sectors</td>\n",
              "      <td>0.542460</td>\n",
              "    </tr>\n",
              "  </tbody>\n",
              "</table>\n",
              "</div>"
            ],
            "text/plain": [
              "   year      Country  mean_temp  median_temp  max_temp  min_temp  \\\n",
              "0  1970  Afghanistan  14.783083       15.471    26.862     1.337   \n",
              "1  1970  Afghanistan  14.783083       15.471    26.862     1.337   \n",
              "2  1970  Afghanistan  14.783083       15.471    26.862     1.337   \n",
              "3  1970  Afghanistan  14.783083       15.471    26.862     1.337   \n",
              "4  1970  Afghanistan  14.783083       15.471    26.862     1.337   \n",
              "\n",
              "   variance_temp                       Sector  emission  \n",
              "0      88.552117               Power Industry  0.055674  \n",
              "1      88.552117                    Buildings  0.789134  \n",
              "2      88.552117                    Transport  0.228480  \n",
              "3      88.552117  Other industrial combustion  0.102457  \n",
              "4      88.552117                Other sectors  0.542460  "
            ]
          },
          "execution_count": 12,
          "metadata": {},
          "output_type": "execute_result"
        }
      ],
      "source": [
        "# Creating a co2 emission per sector data frame\n",
        "co2_by_sec = pd.read_excel('ghg.xls', sheet_name = 'fossil_CO2_by_sector_and_countr')\n",
        "co2_by_sec =pd.melt(co2_by_sec, id_vars = ['Sector','Country'], value_vars = [1970,      1971,      1972,      1973,      1974,\n",
        "            1975,      1976,      1977,      1978,      1979,      1980,\n",
        "            1981,      1982,      1983,      1984,      1985,      1986,\n",
        "            1987,      1988,      1989,      1990,      1991,      1992,\n",
        "            1993,      1994,      1995,      1996,      1997,      1998,\n",
        "            1999,      2000,      2001,      2002,      2003,      2004,\n",
        "            2005,      2006,      2007,      2008,      2009,      2010,\n",
        "            2011,      2012,      2013,      2014,      2015,      2016,\n",
        "            2017,      2018,      2019,      2020], var_name = 'year', value_name = 'emission')\n",
        "co2_by_sector_df = pd.merge(final_df, co2_by_sec, on = ['Country', 'year'], how=\"inner\")\n",
        "co2_by_sector_df = co2_by_sector_df.rename(columns = {'mean':'mean_temp', 'min':'min_temp','median':'median_temp', 'max':'max_temp', 'var':'variance_temp'})\n",
        "co2_by_sector_df.head()"
      ]
    },
    {
      "cell_type": "code",
      "execution_count": null,
      "id": "e10cc726",
      "metadata": {
        "id": "e10cc726"
      },
      "outputs": [],
      "source": [
        "# Exporting to csv file of above dataframe\n",
        "co2_by_sector_df.to_csv('co2_emission_per_sector.csv')"
      ]
    },
    {
      "cell_type": "markdown",
      "id": "4e9295b0",
      "metadata": {
        "id": "4e9295b0"
      },
      "source": [
        "### Co2_emission_per_captia"
      ]
    },
    {
      "cell_type": "code",
      "execution_count": null,
      "id": "900c0540",
      "metadata": {
        "scrolled": true,
        "id": "900c0540",
        "outputId": "b0e0171e-df73-4118-b0a5-0c843b4666ce"
      },
      "outputs": [
        {
          "data": {
            "text/html": [
              "<div>\n",
              "<style scoped>\n",
              "    .dataframe tbody tr th:only-of-type {\n",
              "        vertical-align: middle;\n",
              "    }\n",
              "\n",
              "    .dataframe tbody tr th {\n",
              "        vertical-align: top;\n",
              "    }\n",
              "\n",
              "    .dataframe thead th {\n",
              "        text-align: right;\n",
              "    }\n",
              "</style>\n",
              "<table border=\"1\" class=\"dataframe\">\n",
              "  <thead>\n",
              "    <tr style=\"text-align: right;\">\n",
              "      <th></th>\n",
              "      <th>year</th>\n",
              "      <th>Country</th>\n",
              "      <th>mean_temp</th>\n",
              "      <th>median_temp</th>\n",
              "      <th>max_temp</th>\n",
              "      <th>min_temp</th>\n",
              "      <th>variance_temp</th>\n",
              "      <th>emission</th>\n",
              "    </tr>\n",
              "  </thead>\n",
              "  <tbody>\n",
              "    <tr>\n",
              "      <th>0</th>\n",
              "      <td>1970</td>\n",
              "      <td>Afghanistan</td>\n",
              "      <td>14.783083</td>\n",
              "      <td>15.4710</td>\n",
              "      <td>26.862</td>\n",
              "      <td>1.337</td>\n",
              "      <td>88.552117</td>\n",
              "      <td>0.154430</td>\n",
              "    </tr>\n",
              "    <tr>\n",
              "      <th>1</th>\n",
              "      <td>1970</td>\n",
              "      <td>Albania</td>\n",
              "      <td>12.839667</td>\n",
              "      <td>12.1245</td>\n",
              "      <td>22.264</td>\n",
              "      <td>5.172</td>\n",
              "      <td>42.221893</td>\n",
              "      <td>2.238236</td>\n",
              "    </tr>\n",
              "    <tr>\n",
              "      <th>2</th>\n",
              "      <td>1970</td>\n",
              "      <td>Algeria</td>\n",
              "      <td>23.322833</td>\n",
              "      <td>22.5930</td>\n",
              "      <td>33.709</td>\n",
              "      <td>13.013</td>\n",
              "      <td>57.599106</td>\n",
              "      <td>1.301139</td>\n",
              "    </tr>\n",
              "    <tr>\n",
              "      <th>3</th>\n",
              "      <td>1970</td>\n",
              "      <td>Angola</td>\n",
              "      <td>22.149833</td>\n",
              "      <td>23.0415</td>\n",
              "      <td>23.493</td>\n",
              "      <td>19.110</td>\n",
              "      <td>2.719536</td>\n",
              "      <td>1.321143</td>\n",
              "    </tr>\n",
              "    <tr>\n",
              "      <th>4</th>\n",
              "      <td>1970</td>\n",
              "      <td>Anguilla</td>\n",
              "      <td>26.916167</td>\n",
              "      <td>27.0115</td>\n",
              "      <td>28.200</td>\n",
              "      <td>25.549</td>\n",
              "      <td>1.086153</td>\n",
              "      <td>0.338637</td>\n",
              "    </tr>\n",
              "  </tbody>\n",
              "</table>\n",
              "</div>"
            ],
            "text/plain": [
              "   year      Country  mean_temp  median_temp  max_temp  min_temp  \\\n",
              "0  1970  Afghanistan  14.783083      15.4710    26.862     1.337   \n",
              "1  1970      Albania  12.839667      12.1245    22.264     5.172   \n",
              "2  1970      Algeria  23.322833      22.5930    33.709    13.013   \n",
              "3  1970       Angola  22.149833      23.0415    23.493    19.110   \n",
              "4  1970     Anguilla  26.916167      27.0115    28.200    25.549   \n",
              "\n",
              "   variance_temp  emission  \n",
              "0      88.552117  0.154430  \n",
              "1      42.221893  2.238236  \n",
              "2      57.599106  1.301139  \n",
              "3       2.719536  1.321143  \n",
              "4       1.086153  0.338637  "
            ]
          },
          "execution_count": 14,
          "metadata": {},
          "output_type": "execute_result"
        }
      ],
      "source": [
        "# Creating a total co2 emission per captia data frame\n",
        "co2_per_captia = pd.read_excel('ghg.xls', sheet_name = 'fossil_CO2_per_capita_by_countr')\n",
        "co2_by_captia =pd.melt(co2_per_captia, id_vars = ['Country'], value_vars = [1970,      1971,      1972,      1973,      1974,\n",
        "            1975,      1976,      1977,      1978,      1979,      1980,\n",
        "            1981,      1982,      1983,      1984,      1985,      1986,\n",
        "            1987,      1988,      1989,      1990,      1991,      1992,\n",
        "            1993,      1994,      1995,      1996,      1997,      1998,\n",
        "            1999,      2000,      2001,      2002,      2003,      2004,\n",
        "            2005,      2006,      2007,      2008,      2009,      2010,\n",
        "            2011,      2012,      2013,      2014,      2015,      2016,\n",
        "            2017,      2018,      2019,      2020], var_name = 'year', value_name = 'emission')\n",
        "co2_per_captia_df = pd.merge(final_df, co2_by_captia, on = ['Country', 'year'], how=\"inner\")\n",
        "co2_per_captia_df = co2_per_captia_df.rename(columns = {'mean':'mean_temp', 'min':'min_temp','median':'median_temp', 'max':'max_temp', 'var':'variance_temp'})\n",
        "co2_per_captia_df.head()"
      ]
    },
    {
      "cell_type": "code",
      "execution_count": null,
      "id": "74d6c131",
      "metadata": {
        "id": "74d6c131"
      },
      "outputs": [],
      "source": [
        "# Exporting to csv file of above dataframe\n",
        "co2_per_captia_df.to_csv('co2_emission_per_captia.csv')"
      ]
    },
    {
      "cell_type": "markdown",
      "id": "46bfd135",
      "metadata": {
        "id": "46bfd135"
      },
      "source": [
        "### Total Green House Gas Emissions per Country"
      ]
    },
    {
      "cell_type": "code",
      "execution_count": null,
      "id": "eef1d086",
      "metadata": {
        "id": "eef1d086",
        "outputId": "df804dd3-b50b-435d-c101-21f993c1bf53"
      },
      "outputs": [
        {
          "data": {
            "text/html": [
              "<div>\n",
              "<style scoped>\n",
              "    .dataframe tbody tr th:only-of-type {\n",
              "        vertical-align: middle;\n",
              "    }\n",
              "\n",
              "    .dataframe tbody tr th {\n",
              "        vertical-align: top;\n",
              "    }\n",
              "\n",
              "    .dataframe thead th {\n",
              "        text-align: right;\n",
              "    }\n",
              "</style>\n",
              "<table border=\"1\" class=\"dataframe\">\n",
              "  <thead>\n",
              "    <tr style=\"text-align: right;\">\n",
              "      <th></th>\n",
              "      <th>year</th>\n",
              "      <th>Country</th>\n",
              "      <th>mean_temp</th>\n",
              "      <th>median_temp</th>\n",
              "      <th>max_temp</th>\n",
              "      <th>min_temp</th>\n",
              "      <th>variance_temp</th>\n",
              "      <th>emission</th>\n",
              "    </tr>\n",
              "  </thead>\n",
              "  <tbody>\n",
              "    <tr>\n",
              "      <th>0</th>\n",
              "      <td>1970</td>\n",
              "      <td>Afghanistan</td>\n",
              "      <td>14.783083</td>\n",
              "      <td>15.4710</td>\n",
              "      <td>26.862</td>\n",
              "      <td>1.337</td>\n",
              "      <td>88.552117</td>\n",
              "      <td>16.269661</td>\n",
              "    </tr>\n",
              "    <tr>\n",
              "      <th>1</th>\n",
              "      <td>1970</td>\n",
              "      <td>Albania</td>\n",
              "      <td>12.839667</td>\n",
              "      <td>12.1245</td>\n",
              "      <td>22.264</td>\n",
              "      <td>5.172</td>\n",
              "      <td>42.221893</td>\n",
              "      <td>7.942808</td>\n",
              "    </tr>\n",
              "    <tr>\n",
              "      <th>2</th>\n",
              "      <td>1970</td>\n",
              "      <td>Algeria</td>\n",
              "      <td>23.322833</td>\n",
              "      <td>22.5930</td>\n",
              "      <td>33.709</td>\n",
              "      <td>13.013</td>\n",
              "      <td>57.599106</td>\n",
              "      <td>51.542009</td>\n",
              "    </tr>\n",
              "    <tr>\n",
              "      <th>3</th>\n",
              "      <td>1970</td>\n",
              "      <td>Angola</td>\n",
              "      <td>22.149833</td>\n",
              "      <td>23.0415</td>\n",
              "      <td>23.493</td>\n",
              "      <td>19.110</td>\n",
              "      <td>2.719536</td>\n",
              "      <td>18.985437</td>\n",
              "    </tr>\n",
              "    <tr>\n",
              "      <th>4</th>\n",
              "      <td>1970</td>\n",
              "      <td>Anguilla</td>\n",
              "      <td>26.916167</td>\n",
              "      <td>27.0115</td>\n",
              "      <td>28.200</td>\n",
              "      <td>25.549</td>\n",
              "      <td>1.086153</td>\n",
              "      <td>0.004399</td>\n",
              "    </tr>\n",
              "  </tbody>\n",
              "</table>\n",
              "</div>"
            ],
            "text/plain": [
              "   year      Country  mean_temp  median_temp  max_temp  min_temp  \\\n",
              "0  1970  Afghanistan  14.783083      15.4710    26.862     1.337   \n",
              "1  1970      Albania  12.839667      12.1245    22.264     5.172   \n",
              "2  1970      Algeria  23.322833      22.5930    33.709    13.013   \n",
              "3  1970       Angola  22.149833      23.0415    23.493    19.110   \n",
              "4  1970     Anguilla  26.916167      27.0115    28.200    25.549   \n",
              "\n",
              "   variance_temp   emission  \n",
              "0      88.552117  16.269661  \n",
              "1      42.221893   7.942808  \n",
              "2      57.599106  51.542009  \n",
              "3       2.719536  18.985437  \n",
              "4       1.086153   0.004399  "
            ]
          },
          "execution_count": 16,
          "metadata": {},
          "output_type": "execute_result"
        }
      ],
      "source": [
        "# Creating a total ghg emission data frame\n",
        "ghg_total = pd.read_excel('ghg.xls', sheet_name = 'GHG_totals_by_country')\n",
        "ghg_total =pd.melt(ghg_total, id_vars = ['Country'], value_vars = [1970,      1971,      1972,      1973,      1974,\n",
        "            1975,      1976,      1977,      1978,      1979,      1980,\n",
        "            1981,      1982,      1983,      1984,      1985,      1986,\n",
        "            1987,      1988,      1989,      1990,      1991,      1992,\n",
        "            1993,      1994,      1995,      1996,      1997,      1998,\n",
        "            1999,      2000,      2001,      2002,      2003,      2004,\n",
        "            2005,      2006,      2007,      2008,      2009,      2010,\n",
        "            2011,      2012,      2013,      2014,      2015,      2016,\n",
        "            2017,      2018], var_name = 'year', value_name = 'emission')\n",
        "ghg_total_df = pd.merge(final_df, ghg_total, on = ['Country', 'year'], how=\"inner\")\n",
        "ghg_total_df = ghg_total_df.rename(columns = {'mean':'mean_temp','min':'min_temp', 'median':'median_temp', 'max':'max_temp', 'var':'variance_temp'})\n",
        "ghg_total_df.head()"
      ]
    },
    {
      "cell_type": "code",
      "execution_count": null,
      "id": "840dc5d7",
      "metadata": {
        "id": "840dc5d7"
      },
      "outputs": [],
      "source": [
        "# Exporting to csv file of above dataframe\n",
        "ghg_total_df.to_csv('ghg_emissions.csv')"
      ]
    },
    {
      "cell_type": "markdown",
      "id": "08c475b1",
      "metadata": {
        "id": "08c475b1"
      },
      "source": [
        "### Green House Gas Emission Per Sector"
      ]
    },
    {
      "cell_type": "code",
      "execution_count": null,
      "id": "ebb4edeb",
      "metadata": {
        "id": "ebb4edeb",
        "outputId": "864da077-8517-4329-fc8e-391b15d007f9"
      },
      "outputs": [
        {
          "data": {
            "text/html": [
              "<div>\n",
              "<style scoped>\n",
              "    .dataframe tbody tr th:only-of-type {\n",
              "        vertical-align: middle;\n",
              "    }\n",
              "\n",
              "    .dataframe tbody tr th {\n",
              "        vertical-align: top;\n",
              "    }\n",
              "\n",
              "    .dataframe thead th {\n",
              "        text-align: right;\n",
              "    }\n",
              "</style>\n",
              "<table border=\"1\" class=\"dataframe\">\n",
              "  <thead>\n",
              "    <tr style=\"text-align: right;\">\n",
              "      <th></th>\n",
              "      <th>year</th>\n",
              "      <th>Country</th>\n",
              "      <th>mean_temp</th>\n",
              "      <th>median_temp</th>\n",
              "      <th>max_temp</th>\n",
              "      <th>min_temp</th>\n",
              "      <th>variance_temp</th>\n",
              "      <th>Sector</th>\n",
              "      <th>emission</th>\n",
              "    </tr>\n",
              "  </thead>\n",
              "  <tbody>\n",
              "    <tr>\n",
              "      <th>0</th>\n",
              "      <td>1970</td>\n",
              "      <td>Afghanistan</td>\n",
              "      <td>14.783083</td>\n",
              "      <td>15.471</td>\n",
              "      <td>26.862</td>\n",
              "      <td>1.337</td>\n",
              "      <td>88.552117</td>\n",
              "      <td>Power Industry</td>\n",
              "      <td>0.055825</td>\n",
              "    </tr>\n",
              "    <tr>\n",
              "      <th>1</th>\n",
              "      <td>1970</td>\n",
              "      <td>Afghanistan</td>\n",
              "      <td>14.783083</td>\n",
              "      <td>15.471</td>\n",
              "      <td>26.862</td>\n",
              "      <td>1.337</td>\n",
              "      <td>88.552117</td>\n",
              "      <td>Buildings</td>\n",
              "      <td>0.816874</td>\n",
              "    </tr>\n",
              "    <tr>\n",
              "      <th>2</th>\n",
              "      <td>1970</td>\n",
              "      <td>Afghanistan</td>\n",
              "      <td>14.783083</td>\n",
              "      <td>15.471</td>\n",
              "      <td>26.862</td>\n",
              "      <td>1.337</td>\n",
              "      <td>88.552117</td>\n",
              "      <td>Transport</td>\n",
              "      <td>0.234186</td>\n",
              "    </tr>\n",
              "    <tr>\n",
              "      <th>3</th>\n",
              "      <td>1970</td>\n",
              "      <td>Afghanistan</td>\n",
              "      <td>14.783083</td>\n",
              "      <td>15.471</td>\n",
              "      <td>26.862</td>\n",
              "      <td>1.337</td>\n",
              "      <td>88.552117</td>\n",
              "      <td>Other industrial combustion</td>\n",
              "      <td>0.102993</td>\n",
              "    </tr>\n",
              "    <tr>\n",
              "      <th>4</th>\n",
              "      <td>1970</td>\n",
              "      <td>Afghanistan</td>\n",
              "      <td>14.783083</td>\n",
              "      <td>15.471</td>\n",
              "      <td>26.862</td>\n",
              "      <td>1.337</td>\n",
              "      <td>88.552117</td>\n",
              "      <td>Other sectors</td>\n",
              "      <td>15.059782</td>\n",
              "    </tr>\n",
              "  </tbody>\n",
              "</table>\n",
              "</div>"
            ],
            "text/plain": [
              "   year      Country  mean_temp  median_temp  max_temp  min_temp  \\\n",
              "0  1970  Afghanistan  14.783083       15.471    26.862     1.337   \n",
              "1  1970  Afghanistan  14.783083       15.471    26.862     1.337   \n",
              "2  1970  Afghanistan  14.783083       15.471    26.862     1.337   \n",
              "3  1970  Afghanistan  14.783083       15.471    26.862     1.337   \n",
              "4  1970  Afghanistan  14.783083       15.471    26.862     1.337   \n",
              "\n",
              "   variance_temp                       Sector   emission  \n",
              "0      88.552117               Power Industry   0.055825  \n",
              "1      88.552117                    Buildings   0.816874  \n",
              "2      88.552117                    Transport   0.234186  \n",
              "3      88.552117  Other industrial combustion   0.102993  \n",
              "4      88.552117                Other sectors  15.059782  "
            ]
          },
          "execution_count": 18,
          "metadata": {},
          "output_type": "execute_result"
        }
      ],
      "source": [
        "# Creating a total ghd emission per sector data frame\n",
        "ghg_per_sec = pd.read_excel('ghg.xls', sheet_name = 'GHG_by_sector_and_country')\n",
        "ghg_per_sec =pd.melt(ghg_per_sec, id_vars = ['Sector', 'Country'], value_vars = [1970,      1971,      1972,      1973,      1974,\n",
        "            1975,      1976,      1977,      1978,      1979,      1980,\n",
        "            1981,      1982,      1983,      1984,      1985,      1986,\n",
        "            1987,      1988,      1989,      1990,      1991,      1992,\n",
        "            1993,      1994,      1995,      1996,      1997,      1998,\n",
        "            1999,      2000,      2001,      2002,      2003,      2004,\n",
        "            2005,      2006,      2007,      2008,      2009,      2010,\n",
        "            2011,      2012,      2013,      2014,      2015,      2016,\n",
        "            2017,      2018], var_name = 'year', value_name = 'emission')\n",
        "ghg_per_sec_df = pd.merge(final_df, ghg_per_sec, on = ['Country', 'year'], how=\"inner\")\n",
        "ghg_per_sec_df = ghg_per_sec_df.rename(columns = {'mean':'mean_temp','min':'min_temp', 'median':'median_temp', 'max':'max_temp', 'var':'variance_temp'})\n",
        "ghg_per_sec_df.head()"
      ]
    },
    {
      "cell_type": "code",
      "execution_count": null,
      "id": "d9ced997",
      "metadata": {
        "id": "d9ced997"
      },
      "outputs": [],
      "source": [
        "# Exporting to csv file of above dataframe\n",
        "ghg_per_sec_df.to_csv('ghg_emission_per_sector.csv')"
      ]
    },
    {
      "cell_type": "markdown",
      "id": "1ef5dd06",
      "metadata": {
        "id": "1ef5dd06"
      },
      "source": [
        "### Green House Gas Emission per Captia"
      ]
    },
    {
      "cell_type": "code",
      "execution_count": null,
      "id": "5ffaaa9f",
      "metadata": {
        "id": "5ffaaa9f",
        "outputId": "834dd1ca-6a73-47b8-fcab-a56c1d9fec87"
      },
      "outputs": [
        {
          "data": {
            "text/html": [
              "<div>\n",
              "<style scoped>\n",
              "    .dataframe tbody tr th:only-of-type {\n",
              "        vertical-align: middle;\n",
              "    }\n",
              "\n",
              "    .dataframe tbody tr th {\n",
              "        vertical-align: top;\n",
              "    }\n",
              "\n",
              "    .dataframe thead th {\n",
              "        text-align: right;\n",
              "    }\n",
              "</style>\n",
              "<table border=\"1\" class=\"dataframe\">\n",
              "  <thead>\n",
              "    <tr style=\"text-align: right;\">\n",
              "      <th></th>\n",
              "      <th>year</th>\n",
              "      <th>Country</th>\n",
              "      <th>mean_temp</th>\n",
              "      <th>median_temp</th>\n",
              "      <th>max_temp</th>\n",
              "      <th>min_temp</th>\n",
              "      <th>variance_temp</th>\n",
              "      <th>emission</th>\n",
              "    </tr>\n",
              "  </thead>\n",
              "  <tbody>\n",
              "    <tr>\n",
              "      <th>0</th>\n",
              "      <td>1970</td>\n",
              "      <td>Afghanistan</td>\n",
              "      <td>14.783083</td>\n",
              "      <td>15.4710</td>\n",
              "      <td>26.862</td>\n",
              "      <td>1.337</td>\n",
              "      <td>88.552117</td>\n",
              "      <td>1.462297</td>\n",
              "    </tr>\n",
              "    <tr>\n",
              "      <th>1</th>\n",
              "      <td>1970</td>\n",
              "      <td>Albania</td>\n",
              "      <td>12.839667</td>\n",
              "      <td>12.1245</td>\n",
              "      <td>22.264</td>\n",
              "      <td>5.172</td>\n",
              "      <td>42.221893</td>\n",
              "      <td>3.693299</td>\n",
              "    </tr>\n",
              "    <tr>\n",
              "      <th>2</th>\n",
              "      <td>1970</td>\n",
              "      <td>Algeria</td>\n",
              "      <td>23.322833</td>\n",
              "      <td>22.5930</td>\n",
              "      <td>33.709</td>\n",
              "      <td>13.013</td>\n",
              "      <td>57.599106</td>\n",
              "      <td>3.542406</td>\n",
              "    </tr>\n",
              "    <tr>\n",
              "      <th>3</th>\n",
              "      <td>1970</td>\n",
              "      <td>Angola</td>\n",
              "      <td>22.149833</td>\n",
              "      <td>23.0415</td>\n",
              "      <td>23.493</td>\n",
              "      <td>19.110</td>\n",
              "      <td>2.719536</td>\n",
              "      <td>2.801708</td>\n",
              "    </tr>\n",
              "    <tr>\n",
              "      <th>4</th>\n",
              "      <td>1970</td>\n",
              "      <td>Anguilla</td>\n",
              "      <td>26.916167</td>\n",
              "      <td>27.0115</td>\n",
              "      <td>28.200</td>\n",
              "      <td>25.549</td>\n",
              "      <td>1.086153</td>\n",
              "      <td>0.686986</td>\n",
              "    </tr>\n",
              "  </tbody>\n",
              "</table>\n",
              "</div>"
            ],
            "text/plain": [
              "   year      Country  mean_temp  median_temp  max_temp  min_temp  \\\n",
              "0  1970  Afghanistan  14.783083      15.4710    26.862     1.337   \n",
              "1  1970      Albania  12.839667      12.1245    22.264     5.172   \n",
              "2  1970      Algeria  23.322833      22.5930    33.709    13.013   \n",
              "3  1970       Angola  22.149833      23.0415    23.493    19.110   \n",
              "4  1970     Anguilla  26.916167      27.0115    28.200    25.549   \n",
              "\n",
              "   variance_temp  emission  \n",
              "0      88.552117  1.462297  \n",
              "1      42.221893  3.693299  \n",
              "2      57.599106  3.542406  \n",
              "3       2.719536  2.801708  \n",
              "4       1.086153  0.686986  "
            ]
          },
          "execution_count": 20,
          "metadata": {},
          "output_type": "execute_result"
        }
      ],
      "source": [
        "# Creating a total ghg emission per captia data frame\n",
        "ghg_per_captia = pd.read_excel('ghg.xls', sheet_name = 'GHG_per_capita_by_country')\n",
        "ghg_per_captia = pd.melt(ghg_per_captia, id_vars = ['Country'], value_vars = [1970,      1971,      1972,      1973,      1974,\n",
        "            1975,      1976,      1977,      1978,      1979,      1980,\n",
        "            1981,      1982,      1983,      1984,      1985,      1986,\n",
        "            1987,      1988,      1989,      1990,      1991,      1992,\n",
        "            1993,      1994,      1995,      1996,      1997,      1998,\n",
        "            1999,      2000,      2001,      2002,      2003,      2004,\n",
        "            2005,      2006,      2007,      2008,      2009,      2010,\n",
        "            2011,      2012,      2013,      2014,      2015,      2016,\n",
        "            2017,      2018], var_name = 'year', value_name = 'emission')\n",
        "ghg_per_captia_df = pd.merge(final_df, ghg_per_captia, on = ['Country', 'year'], how=\"inner\")\n",
        "ghg_per_captia_df = ghg_per_captia_df.rename(columns = {'mean':'mean_temp','min':'min_temp', 'median':'median_temp', 'max':'max_temp', 'var':'variance_temp'})\n",
        "ghg_per_captia_df.head()"
      ]
    },
    {
      "cell_type": "code",
      "execution_count": null,
      "id": "a54b787d",
      "metadata": {
        "id": "a54b787d"
      },
      "outputs": [],
      "source": [
        "# Exporting to csv file of above dataframe\n",
        "ghg_per_captia_df.to_csv('ghg_per_captia.csv')"
      ]
    },
    {
      "cell_type": "markdown",
      "id": "901a182d",
      "metadata": {
        "id": "901a182d"
      },
      "source": [
        "# Exploratory Data Analysis and Data Visualizations"
      ]
    },
    {
      "cell_type": "markdown",
      "id": "3ba44635",
      "metadata": {
        "id": "3ba44635"
      },
      "source": [
        "### CO2 Emission Analysis"
      ]
    },
    {
      "cell_type": "code",
      "execution_count": null,
      "id": "96744a94",
      "metadata": {
        "id": "96744a94",
        "outputId": "39352d5d-15c7-40a8-bd4c-b5eb243ffe42"
      },
      "outputs": [
        {
          "data": {
            "text/html": [
              "<div>\n",
              "<style scoped>\n",
              "    .dataframe tbody tr th:only-of-type {\n",
              "        vertical-align: middle;\n",
              "    }\n",
              "\n",
              "    .dataframe tbody tr th {\n",
              "        vertical-align: top;\n",
              "    }\n",
              "\n",
              "    .dataframe thead th {\n",
              "        text-align: right;\n",
              "    }\n",
              "</style>\n",
              "<table border=\"1\" class=\"dataframe\">\n",
              "  <thead>\n",
              "    <tr style=\"text-align: right;\">\n",
              "      <th></th>\n",
              "      <th>year</th>\n",
              "      <th>Country</th>\n",
              "      <th>mean_temp</th>\n",
              "      <th>median_temp</th>\n",
              "      <th>max_temp</th>\n",
              "      <th>min_temp</th>\n",
              "      <th>variance_temp</th>\n",
              "      <th>emission</th>\n",
              "    </tr>\n",
              "  </thead>\n",
              "  <tbody>\n",
              "    <tr>\n",
              "      <th>0</th>\n",
              "      <td>1970</td>\n",
              "      <td>Afghanistan</td>\n",
              "      <td>14.783083</td>\n",
              "      <td>15.4710</td>\n",
              "      <td>26.862</td>\n",
              "      <td>1.337</td>\n",
              "      <td>88.552117</td>\n",
              "      <td>1.718206</td>\n",
              "    </tr>\n",
              "    <tr>\n",
              "      <th>1</th>\n",
              "      <td>1970</td>\n",
              "      <td>Albania</td>\n",
              "      <td>12.839667</td>\n",
              "      <td>12.1245</td>\n",
              "      <td>22.264</td>\n",
              "      <td>5.172</td>\n",
              "      <td>42.221893</td>\n",
              "      <td>4.813550</td>\n",
              "    </tr>\n",
              "    <tr>\n",
              "      <th>2</th>\n",
              "      <td>1970</td>\n",
              "      <td>Algeria</td>\n",
              "      <td>23.322833</td>\n",
              "      <td>22.5930</td>\n",
              "      <td>33.709</td>\n",
              "      <td>13.013</td>\n",
              "      <td>57.599106</td>\n",
              "      <td>18.931573</td>\n",
              "    </tr>\n",
              "    <tr>\n",
              "      <th>3</th>\n",
              "      <td>1970</td>\n",
              "      <td>Angola</td>\n",
              "      <td>22.149833</td>\n",
              "      <td>23.0415</td>\n",
              "      <td>23.493</td>\n",
              "      <td>19.110</td>\n",
              "      <td>2.719536</td>\n",
              "      <td>8.952568</td>\n",
              "    </tr>\n",
              "    <tr>\n",
              "      <th>4</th>\n",
              "      <td>1970</td>\n",
              "      <td>Anguilla</td>\n",
              "      <td>26.916167</td>\n",
              "      <td>27.0115</td>\n",
              "      <td>28.200</td>\n",
              "      <td>25.549</td>\n",
              "      <td>1.086153</td>\n",
              "      <td>0.002168</td>\n",
              "    </tr>\n",
              "  </tbody>\n",
              "</table>\n",
              "</div>"
            ],
            "text/plain": [
              "   year      Country  mean_temp  median_temp  max_temp  min_temp  \\\n",
              "0  1970  Afghanistan  14.783083      15.4710    26.862     1.337   \n",
              "1  1970      Albania  12.839667      12.1245    22.264     5.172   \n",
              "2  1970      Algeria  23.322833      22.5930    33.709    13.013   \n",
              "3  1970       Angola  22.149833      23.0415    23.493    19.110   \n",
              "4  1970     Anguilla  26.916167      27.0115    28.200    25.549   \n",
              "\n",
              "   variance_temp   emission  \n",
              "0      88.552117   1.718206  \n",
              "1      42.221893   4.813550  \n",
              "2      57.599106  18.931573  \n",
              "3       2.719536   8.952568  \n",
              "4       1.086153   0.002168  "
            ]
          },
          "execution_count": 22,
          "metadata": {},
          "output_type": "execute_result"
        }
      ],
      "source": [
        "#inspecting the data\n",
        "co2_data.head()"
      ]
    },
    {
      "cell_type": "code",
      "execution_count": null,
      "id": "b967733d",
      "metadata": {
        "id": "b967733d"
      },
      "outputs": [],
      "source": [
        "# Creating a copy of dataframe\n",
        "df_c = co2_data.copy()"
      ]
    },
    {
      "cell_type": "markdown",
      "id": "d812e589",
      "metadata": {
        "id": "d812e589"
      },
      "source": [
        "#### Removing outliers"
      ]
    },
    {
      "cell_type": "code",
      "execution_count": null,
      "id": "4234c13c",
      "metadata": {
        "id": "4234c13c"
      },
      "outputs": [],
      "source": [
        "# Creating the list of numerical features\n",
        "num_feat = ['mean_temp', 'median_temp', 'max_temp', 'min_temp',\n",
        "       'variance_temp', 'emission']"
      ]
    },
    {
      "cell_type": "code",
      "execution_count": null,
      "id": "5610516c",
      "metadata": {
        "id": "5610516c"
      },
      "outputs": [],
      "source": [
        "# Creating a for loop which identifies the index od outliers and create a list of outlier indexes\n",
        "for i in num_feat:\n",
        "  indeces = []                                              # creating a empty list\n",
        "  x = df_c[i]\n",
        "  mean = df_c[i].mean()\n",
        "  std = df_c[i].std()\n",
        "  index = df_c[(np.abs(x)) - (mean) >= (3 * std)].index     # getting the index of outlier\n",
        "  indeces.append(index)"
      ]
    },
    {
      "cell_type": "code",
      "execution_count": null,
      "id": "c73914f2",
      "metadata": {
        "id": "c73914f2"
      },
      "outputs": [],
      "source": [
        "# Removing outliers\n",
        "df_c.drop(list(indeces)[0] , inplace = True)"
      ]
    },
    {
      "cell_type": "markdown",
      "id": "894acb1e",
      "metadata": {
        "id": "894acb1e"
      },
      "source": [
        "## Descriptive Statistics"
      ]
    },
    {
      "cell_type": "code",
      "execution_count": null,
      "id": "06668632",
      "metadata": {
        "id": "06668632"
      },
      "outputs": [],
      "source": [
        "# Creating a function which takes data and feature as arguements and returns a dataframe with descriptive statistics of feature\n",
        "def desc_stats(data, feature):\n",
        "    df = data[feature].describe()\n",
        "    print(f'Descriptive Statistics of {feature}')\n",
        "    return df.reset_index()\n",
        ""
      ]
    },
    {
      "cell_type": "code",
      "execution_count": null,
      "id": "aa37d345",
      "metadata": {
        "id": "aa37d345"
      },
      "outputs": [],
      "source": [
        "# Creating a function which takes data and feature as arguements and returns a distribution plots of the feature.\n",
        "def dist_plots(data, feature):\n",
        "    sns.distplot(data[feature])\n",
        "    plt.title(f'Distribution plot of {feature}')\n",
        "    plt.show()"
      ]
    },
    {
      "cell_type": "code",
      "execution_count": null,
      "id": "f20633d7",
      "metadata": {
        "scrolled": true,
        "id": "f20633d7",
        "outputId": "dccd4011-e670-409b-8175-fd8c936189ec"
      },
      "outputs": [
        {
          "name": "stdout",
          "output_type": "stream",
          "text": [
            "Descriptive Statistics of variance_temp\n"
          ]
        },
        {
          "data": {
            "text/html": [
              "<div>\n",
              "<style scoped>\n",
              "    .dataframe tbody tr th:only-of-type {\n",
              "        vertical-align: middle;\n",
              "    }\n",
              "\n",
              "    .dataframe tbody tr th {\n",
              "        vertical-align: top;\n",
              "    }\n",
              "\n",
              "    .dataframe thead th {\n",
              "        text-align: right;\n",
              "    }\n",
              "</style>\n",
              "<table border=\"1\" class=\"dataframe\">\n",
              "  <thead>\n",
              "    <tr style=\"text-align: right;\">\n",
              "      <th></th>\n",
              "      <th>index</th>\n",
              "      <th>variance_temp</th>\n",
              "    </tr>\n",
              "  </thead>\n",
              "  <tbody>\n",
              "    <tr>\n",
              "      <th>0</th>\n",
              "      <td>count</td>\n",
              "      <td>7476.000000</td>\n",
              "    </tr>\n",
              "    <tr>\n",
              "      <th>1</th>\n",
              "      <td>mean</td>\n",
              "      <td>31.595300</td>\n",
              "    </tr>\n",
              "    <tr>\n",
              "      <th>2</th>\n",
              "      <td>std</td>\n",
              "      <td>42.467378</td>\n",
              "    </tr>\n",
              "    <tr>\n",
              "      <th>3</th>\n",
              "      <td>min</td>\n",
              "      <td>0.022092</td>\n",
              "    </tr>\n",
              "    <tr>\n",
              "      <th>4</th>\n",
              "      <td>25%</td>\n",
              "      <td>1.385950</td>\n",
              "    </tr>\n",
              "    <tr>\n",
              "      <th>5</th>\n",
              "      <td>50%</td>\n",
              "      <td>11.630805</td>\n",
              "    </tr>\n",
              "    <tr>\n",
              "      <th>6</th>\n",
              "      <td>75%</td>\n",
              "      <td>52.855942</td>\n",
              "    </tr>\n",
              "    <tr>\n",
              "      <th>7</th>\n",
              "      <td>max</td>\n",
              "      <td>295.247774</td>\n",
              "    </tr>\n",
              "  </tbody>\n",
              "</table>\n",
              "</div>"
            ],
            "text/plain": [
              "   index  variance_temp\n",
              "0  count    7476.000000\n",
              "1   mean      31.595300\n",
              "2    std      42.467378\n",
              "3    min       0.022092\n",
              "4    25%       1.385950\n",
              "5    50%      11.630805\n",
              "6    75%      52.855942\n",
              "7    max     295.247774"
            ]
          },
          "execution_count": 29,
          "metadata": {},
          "output_type": "execute_result"
        }
      ],
      "source": [
        "# Descriptive Statistics of variance_temp\n",
        "desc_stats(df_c, 'variance_temp')"
      ]
    },
    {
      "cell_type": "code",
      "execution_count": null,
      "id": "42d2f1b3",
      "metadata": {
        "id": "42d2f1b3",
        "outputId": "3706d40d-e889-4728-984b-9f43667e49dd"
      },
      "outputs": [
        {
          "name": "stdout",
          "output_type": "stream",
          "text": [
            "Descriptive Statistics of mean_temp\n"
          ]
        },
        {
          "data": {
            "text/html": [
              "<div>\n",
              "<style scoped>\n",
              "    .dataframe tbody tr th:only-of-type {\n",
              "        vertical-align: middle;\n",
              "    }\n",
              "\n",
              "    .dataframe tbody tr th {\n",
              "        vertical-align: top;\n",
              "    }\n",
              "\n",
              "    .dataframe thead th {\n",
              "        text-align: right;\n",
              "    }\n",
              "</style>\n",
              "<table border=\"1\" class=\"dataframe\">\n",
              "  <thead>\n",
              "    <tr style=\"text-align: right;\">\n",
              "      <th></th>\n",
              "      <th>index</th>\n",
              "      <th>mean_temp</th>\n",
              "    </tr>\n",
              "  </thead>\n",
              "  <tbody>\n",
              "    <tr>\n",
              "      <th>0</th>\n",
              "      <td>count</td>\n",
              "      <td>7476.000000</td>\n",
              "    </tr>\n",
              "    <tr>\n",
              "      <th>1</th>\n",
              "      <td>mean</td>\n",
              "      <td>19.745706</td>\n",
              "    </tr>\n",
              "    <tr>\n",
              "      <th>2</th>\n",
              "      <td>std</td>\n",
              "      <td>8.965213</td>\n",
              "    </tr>\n",
              "    <tr>\n",
              "      <th>3</th>\n",
              "      <td>min</td>\n",
              "      <td>-20.446833</td>\n",
              "    </tr>\n",
              "    <tr>\n",
              "      <th>4</th>\n",
              "      <td>25%</td>\n",
              "      <td>13.097688</td>\n",
              "    </tr>\n",
              "    <tr>\n",
              "      <th>5</th>\n",
              "      <td>50%</td>\n",
              "      <td>23.453125</td>\n",
              "    </tr>\n",
              "    <tr>\n",
              "      <th>6</th>\n",
              "      <td>75%</td>\n",
              "      <td>26.522917</td>\n",
              "    </tr>\n",
              "    <tr>\n",
              "      <th>7</th>\n",
              "      <td>max</td>\n",
              "      <td>30.744750</td>\n",
              "    </tr>\n",
              "  </tbody>\n",
              "</table>\n",
              "</div>"
            ],
            "text/plain": [
              "   index    mean_temp\n",
              "0  count  7476.000000\n",
              "1   mean    19.745706\n",
              "2    std     8.965213\n",
              "3    min   -20.446833\n",
              "4    25%    13.097688\n",
              "5    50%    23.453125\n",
              "6    75%    26.522917\n",
              "7    max    30.744750"
            ]
          },
          "execution_count": 30,
          "metadata": {},
          "output_type": "execute_result"
        }
      ],
      "source": [
        "# Descriptive Statistics of mean_temp\n",
        "desc_stats(df_c, 'mean_temp')"
      ]
    },
    {
      "cell_type": "code",
      "execution_count": null,
      "id": "144cf99e",
      "metadata": {
        "scrolled": true,
        "id": "144cf99e",
        "outputId": "eb12017e-7251-4fb4-f103-cd962addb800"
      },
      "outputs": [
        {
          "name": "stdout",
          "output_type": "stream",
          "text": [
            "Descriptive Statistics of emission\n"
          ]
        },
        {
          "data": {
            "text/html": [
              "<div>\n",
              "<style scoped>\n",
              "    .dataframe tbody tr th:only-of-type {\n",
              "        vertical-align: middle;\n",
              "    }\n",
              "\n",
              "    .dataframe tbody tr th {\n",
              "        vertical-align: top;\n",
              "    }\n",
              "\n",
              "    .dataframe thead th {\n",
              "        text-align: right;\n",
              "    }\n",
              "</style>\n",
              "<table border=\"1\" class=\"dataframe\">\n",
              "  <thead>\n",
              "    <tr style=\"text-align: right;\">\n",
              "      <th></th>\n",
              "      <th>index</th>\n",
              "      <th>emission</th>\n",
              "    </tr>\n",
              "  </thead>\n",
              "  <tbody>\n",
              "    <tr>\n",
              "      <th>0</th>\n",
              "      <td>count</td>\n",
              "      <td>7476.000000</td>\n",
              "    </tr>\n",
              "    <tr>\n",
              "      <th>1</th>\n",
              "      <td>mean</td>\n",
              "      <td>73.305526</td>\n",
              "    </tr>\n",
              "    <tr>\n",
              "      <th>2</th>\n",
              "      <td>std</td>\n",
              "      <td>197.207581</td>\n",
              "    </tr>\n",
              "    <tr>\n",
              "      <th>3</th>\n",
              "      <td>min</td>\n",
              "      <td>0.002109</td>\n",
              "    </tr>\n",
              "    <tr>\n",
              "      <th>4</th>\n",
              "      <td>25%</td>\n",
              "      <td>1.167458</td>\n",
              "    </tr>\n",
              "    <tr>\n",
              "      <th>5</th>\n",
              "      <td>50%</td>\n",
              "      <td>7.327895</td>\n",
              "    </tr>\n",
              "    <tr>\n",
              "      <th>6</th>\n",
              "      <td>75%</td>\n",
              "      <td>51.135284</td>\n",
              "    </tr>\n",
              "    <tr>\n",
              "      <th>7</th>\n",
              "      <td>max</td>\n",
              "      <td>1820.165876</td>\n",
              "    </tr>\n",
              "  </tbody>\n",
              "</table>\n",
              "</div>"
            ],
            "text/plain": [
              "   index     emission\n",
              "0  count  7476.000000\n",
              "1   mean    73.305526\n",
              "2    std   197.207581\n",
              "3    min     0.002109\n",
              "4    25%     1.167458\n",
              "5    50%     7.327895\n",
              "6    75%    51.135284\n",
              "7    max  1820.165876"
            ]
          },
          "execution_count": 31,
          "metadata": {},
          "output_type": "execute_result"
        }
      ],
      "source": [
        "# Descriptive Statistics of emission\n",
        "desc_stats(df_c, 'emission')"
      ]
    },
    {
      "cell_type": "code",
      "execution_count": null,
      "id": "86da9d97",
      "metadata": {
        "id": "86da9d97",
        "outputId": "b2879b22-ac7a-4227-bc57-193ed7f23818"
      },
      "outputs": [
        {
          "data": {
            "image/png": "[encoded data removed]",
            "text/plain": [
              "<Figure size 432x288 with 1 Axes>"
            ]
          },
          "metadata": {
            "needs_background": "light"
          },
          "output_type": "display_data"
        }
      ],
      "source": [
        "# Distribution plot of variance of temperature\n",
        "dist_plots(df_c, 'variance_temp')"
      ]
    },
    {
      "cell_type": "code",
      "execution_count": null,
      "id": "4f4c7580",
      "metadata": {
        "id": "4f4c7580",
        "outputId": "20418237-0d8f-494b-ee90-68c7fa39b058"
      },
      "outputs": [
        {
          "data": {
            "image/png": "[encoded data removed]",
            "text/plain": [
              "<Figure size 432x288 with 1 Axes>"
            ]
          },
          "metadata": {
            "needs_background": "light"
          },
          "output_type": "display_data"
        }
      ],
      "source": [
        "# Distribution plot of mean temperature\n",
        "dist_plots(df_c, 'mean_temp')"
      ]
    },
    {
      "cell_type": "code",
      "execution_count": null,
      "id": "e1a7b25b",
      "metadata": {
        "scrolled": true,
        "id": "e1a7b25b",
        "outputId": "9d5a3313-543c-40bc-82de-d8a9e5041aaf"
      },
      "outputs": [
        {
          "data": {
            "image/png": "[encoded data removed]",
            "text/plain": [
              "<Figure size 432x288 with 1 Axes>"
            ]
          },
          "metadata": {
            "needs_background": "light"
          },
          "output_type": "display_data"
        }
      ],
      "source": [
        "# Distribution plot of emission\n",
        "dist_plots(df_c, 'emission')"
      ]
    },
    {
      "cell_type": "markdown",
      "id": "439f33f3",
      "metadata": {
        "id": "439f33f3"
      },
      "source": [
        "### Top 10 countries with high CO2 emission"
      ]
    },
    {
      "cell_type": "code",
      "execution_count": null,
      "id": "a0dda90c",
      "metadata": {
        "id": "a0dda90c",
        "outputId": "38272f29-3dbb-4c55-bec7-64afbdb46d45"
      },
      "outputs": [
        {
          "data": {
            "image/png": "[encoded data removed]",
            "text/plain": [
              "<Figure size 1224x504 with 1 Axes>"
            ]
          },
          "metadata": {
            "needs_background": "light"
          },
          "output_type": "display_data"
        }
      ],
      "source": [
        "# Creating a bar chart with top 10 countries with high co2 emissions\n",
        "plt.figure(figsize = (17,7))\n",
        "top_df_c = df_c.groupby('Country')['emission'].sum().reset_index()\n",
        "top_10 = top_df_c.sort_values(by = 'emission', ascending = False)[0:10]\n",
        "plt.bar(top_10['Country'], top_10['emission'])\n",
        "plt.title('Top 10 countries with high CO2 emission')\n",
        "plt.xlabel('Country')\n",
        "plt.ylabel('CO2 Emission')\n",
        "plt.show()"
      ]
    },
    {
      "cell_type": "markdown",
      "id": "df9ddee1",
      "metadata": {
        "id": "df9ddee1"
      },
      "source": [
        "## Correlation Analysis"
      ]
    },
    {
      "cell_type": "code",
      "execution_count": null,
      "id": "79a69138",
      "metadata": {
        "id": "79a69138",
        "outputId": "cb9de6e8-5929-4c69-d2a2-61c90e7d7c41"
      },
      "outputs": [
        {
          "data": {
            "image/png": "[encoded data removed]",
            "text/plain": [
              "<Figure size 432x288 with 2 Axes>"
            ]
          },
          "metadata": {
            "needs_background": "light"
          },
          "output_type": "display_data"
        }
      ],
      "source": [
        "# Creating a correlation heatmap\n",
        "sns.heatmap(df_c[['mean_temp', 'variance_temp', 'emission']].corr(), annot = True)\n",
        "plt.title('Correlation heatmap')\n",
        "plt.show()\n"
      ]
    },
    {
      "cell_type": "markdown",
      "id": "6cba78dd",
      "metadata": {
        "id": "6cba78dd"
      },
      "source": [
        "## Regression Analysis"
      ]
    },
    {
      "cell_type": "code",
      "execution_count": null,
      "id": "8faf67a6",
      "metadata": {
        "id": "8faf67a6"
      },
      "outputs": [],
      "source": [
        "# Creating a function which performs regression analysis\n",
        "from sklearn.linear_model import LinearRegression\n",
        "from sklearn.model_selection import train_test_split\n",
        "from sklearn.metrics import mean_squared_error, r2_score\n",
        "\n",
        "def lin_reg(data, input_feat):\n",
        "    x = data[input_feat].values.reshape(-1, 1)\n",
        "    y = data['emission'].values\n",
        "    X_train, X_test, y_train, y_test = train_test_split(x, y, test_size=0.2, random_state=0)\n",
        "    regressor = LinearRegression()\n",
        "    regressor.fit(X_train, y_train)\n",
        "    y_pred = regressor.predict(X_test)\n",
        "    mse = mean_squared_error(y_test, y_pred)\n",
        "    print('Mean Squared Error:', mse)\n",
        "\n",
        "    # Calculate R-squared\n",
        "    r2 = r2_score(y_test, y_pred)\n",
        "    print('R-squared:', r2)\n",
        "    y_pred1 = regressor.predict(x)\n",
        "\n",
        "    plt.scatter(x, y)\n",
        "    plt.plot(x, y_pred1, color='red')\n",
        "    plt.title(f'{input_feat} vs Emissions')\n",
        "    plt.xlabel(f'{input_feat}')\n",
        "    plt.ylabel('Emission')\n",
        "    plt.show()"
      ]
    },
    {
      "cell_type": "code",
      "execution_count": null,
      "id": "a15844f3",
      "metadata": {
        "id": "a15844f3",
        "outputId": "a86955ef-c2c9-41de-c88b-3d0895459bd7"
      },
      "outputs": [
        {
          "name": "stdout",
          "output_type": "stream",
          "text": [
            "Mean Squared Error: 34361.89423839837\n",
            "R-squared: 0.10754243999960422\n"
          ]
        },
        {
          "data": {
            "image/png": "[encoded data removed]",
            "text/plain": [
              "<Figure size 432x288 with 1 Axes>"
            ]
          },
          "metadata": {
            "needs_background": "light"
          },
          "output_type": "display_data"
        }
      ],
      "source": [
        "# Regression analysis between CO2 emissions and Variance of temperature\n",
        "lin_reg(df_c, 'variance_temp')"
      ]
    },
    {
      "cell_type": "code",
      "execution_count": null,
      "id": "207f44fb",
      "metadata": {
        "scrolled": true,
        "id": "207f44fb",
        "outputId": "3b6594b9-43a8-4b99-d322-a1e69a2c89bb"
      },
      "outputs": [
        {
          "name": "stdout",
          "output_type": "stream",
          "text": [
            "Mean Squared Error: 35538.60317115427\n",
            "R-squared: 0.07698059798728352\n"
          ]
        },
        {
          "data": {
            "image/png": "[encoded data removed]",
            "text/plain": [
              "<Figure size 432x288 with 1 Axes>"
            ]
          },
          "metadata": {
            "needs_background": "light"
          },
          "output_type": "display_data"
        }
      ],
      "source": [
        "# Regression analysis between CO2 emissions and mean temperature\n",
        "lin_reg(df_c, 'mean_temp')"
      ]
    },
    {
      "cell_type": "markdown",
      "id": "b5963c8e",
      "metadata": {
        "id": "b5963c8e"
      },
      "source": [
        "### Predicting the CO2 emissions for future years"
      ]
    },
    {
      "cell_type": "code",
      "execution_count": null,
      "id": "e7048719",
      "metadata": {
        "scrolled": true,
        "id": "e7048719",
        "outputId": "663d045a-37e1-46fc-9624-ee8cc41512f5"
      },
      "outputs": [
        {
          "data": {
            "text/html": [
              "<div>\n",
              "<style scoped>\n",
              "    .dataframe tbody tr th:only-of-type {\n",
              "        vertical-align: middle;\n",
              "    }\n",
              "\n",
              "    .dataframe tbody tr th {\n",
              "        vertical-align: top;\n",
              "    }\n",
              "\n",
              "    .dataframe thead th {\n",
              "        text-align: right;\n",
              "    }\n",
              "</style>\n",
              "<table border=\"1\" class=\"dataframe\">\n",
              "  <thead>\n",
              "    <tr style=\"text-align: right;\">\n",
              "      <th></th>\n",
              "      <th>year</th>\n",
              "      <th>emission</th>\n",
              "    </tr>\n",
              "  </thead>\n",
              "  <tbody>\n",
              "    <tr>\n",
              "      <th>0</th>\n",
              "      <td>1970</td>\n",
              "      <td>9364.885108</td>\n",
              "    </tr>\n",
              "    <tr>\n",
              "      <th>1</th>\n",
              "      <td>1971</td>\n",
              "      <td>9428.869413</td>\n",
              "    </tr>\n",
              "    <tr>\n",
              "      <th>2</th>\n",
              "      <td>1972</td>\n",
              "      <td>9906.575269</td>\n",
              "    </tr>\n",
              "    <tr>\n",
              "      <th>3</th>\n",
              "      <td>1973</td>\n",
              "      <td>10588.072747</td>\n",
              "    </tr>\n",
              "    <tr>\n",
              "      <th>4</th>\n",
              "      <td>1974</td>\n",
              "      <td>10748.312454</td>\n",
              "    </tr>\n",
              "    <tr>\n",
              "      <th>5</th>\n",
              "      <td>1975</td>\n",
              "      <td>10993.691658</td>\n",
              "    </tr>\n",
              "    <tr>\n",
              "      <th>6</th>\n",
              "      <td>1976</td>\n",
              "      <td>11562.936428</td>\n",
              "    </tr>\n",
              "    <tr>\n",
              "      <th>7</th>\n",
              "      <td>1977</td>\n",
              "      <td>11957.581967</td>\n",
              "    </tr>\n",
              "    <tr>\n",
              "      <th>8</th>\n",
              "      <td>1978</td>\n",
              "      <td>12595.319291</td>\n",
              "    </tr>\n",
              "    <tr>\n",
              "      <th>9</th>\n",
              "      <td>1979</td>\n",
              "      <td>11195.747970</td>\n",
              "    </tr>\n",
              "    <tr>\n",
              "      <th>10</th>\n",
              "      <td>1980</td>\n",
              "      <td>11154.882730</td>\n",
              "    </tr>\n",
              "    <tr>\n",
              "      <th>11</th>\n",
              "      <td>1981</td>\n",
              "      <td>10912.037757</td>\n",
              "    </tr>\n",
              "    <tr>\n",
              "      <th>12</th>\n",
              "      <td>1982</td>\n",
              "      <td>10948.044063</td>\n",
              "    </tr>\n",
              "    <tr>\n",
              "      <th>13</th>\n",
              "      <td>1983</td>\n",
              "      <td>11108.079652</td>\n",
              "    </tr>\n",
              "    <tr>\n",
              "      <th>14</th>\n",
              "      <td>1984</td>\n",
              "      <td>9622.346415</td>\n",
              "    </tr>\n",
              "    <tr>\n",
              "      <th>15</th>\n",
              "      <td>1985</td>\n",
              "      <td>9795.357594</td>\n",
              "    </tr>\n",
              "    <tr>\n",
              "      <th>16</th>\n",
              "      <td>1986</td>\n",
              "      <td>9986.820984</td>\n",
              "    </tr>\n",
              "    <tr>\n",
              "      <th>17</th>\n",
              "      <td>1987</td>\n",
              "      <td>10288.818591</td>\n",
              "    </tr>\n",
              "    <tr>\n",
              "      <th>18</th>\n",
              "      <td>1988</td>\n",
              "      <td>10574.616417</td>\n",
              "    </tr>\n",
              "    <tr>\n",
              "      <th>19</th>\n",
              "      <td>1989</td>\n",
              "      <td>10757.753083</td>\n",
              "    </tr>\n",
              "    <tr>\n",
              "      <th>20</th>\n",
              "      <td>1990</td>\n",
              "      <td>10778.572886</td>\n",
              "    </tr>\n",
              "    <tr>\n",
              "      <th>21</th>\n",
              "      <td>1991</td>\n",
              "      <td>10842.718686</td>\n",
              "    </tr>\n",
              "    <tr>\n",
              "      <th>22</th>\n",
              "      <td>1992</td>\n",
              "      <td>10727.909381</td>\n",
              "    </tr>\n",
              "    <tr>\n",
              "      <th>23</th>\n",
              "      <td>1993</td>\n",
              "      <td>10735.137021</td>\n",
              "    </tr>\n",
              "    <tr>\n",
              "      <th>24</th>\n",
              "      <td>1994</td>\n",
              "      <td>12683.570724</td>\n",
              "    </tr>\n",
              "    <tr>\n",
              "      <th>25</th>\n",
              "      <td>1995</td>\n",
              "      <td>12892.217031</td>\n",
              "    </tr>\n",
              "    <tr>\n",
              "      <th>26</th>\n",
              "      <td>1996</td>\n",
              "      <td>13178.956535</td>\n",
              "    </tr>\n",
              "    <tr>\n",
              "      <th>27</th>\n",
              "      <td>1997</td>\n",
              "      <td>13229.268286</td>\n",
              "    </tr>\n",
              "    <tr>\n",
              "      <th>28</th>\n",
              "      <td>1998</td>\n",
              "      <td>13165.912117</td>\n",
              "    </tr>\n",
              "    <tr>\n",
              "      <th>29</th>\n",
              "      <td>1999</td>\n",
              "      <td>13358.579946</td>\n",
              "    </tr>\n",
              "    <tr>\n",
              "      <th>30</th>\n",
              "      <td>2000</td>\n",
              "      <td>13727.334488</td>\n",
              "    </tr>\n",
              "    <tr>\n",
              "      <th>31</th>\n",
              "      <td>2001</td>\n",
              "      <td>13938.505240</td>\n",
              "    </tr>\n",
              "    <tr>\n",
              "      <th>32</th>\n",
              "      <td>2002</td>\n",
              "      <td>14100.210768</td>\n",
              "    </tr>\n",
              "    <tr>\n",
              "      <th>33</th>\n",
              "      <td>2003</td>\n",
              "      <td>14567.794456</td>\n",
              "    </tr>\n",
              "    <tr>\n",
              "      <th>34</th>\n",
              "      <td>2004</td>\n",
              "      <td>14916.359887</td>\n",
              "    </tr>\n",
              "    <tr>\n",
              "      <th>35</th>\n",
              "      <td>2005</td>\n",
              "      <td>15182.129861</td>\n",
              "    </tr>\n",
              "    <tr>\n",
              "      <th>36</th>\n",
              "      <td>2006</td>\n",
              "      <td>15571.715755</td>\n",
              "    </tr>\n",
              "    <tr>\n",
              "      <th>37</th>\n",
              "      <td>2007</td>\n",
              "      <td>15999.633159</td>\n",
              "    </tr>\n",
              "    <tr>\n",
              "      <th>38</th>\n",
              "      <td>2008</td>\n",
              "      <td>16232.611682</td>\n",
              "    </tr>\n",
              "    <tr>\n",
              "      <th>39</th>\n",
              "      <td>2009</td>\n",
              "      <td>15884.525374</td>\n",
              "    </tr>\n",
              "    <tr>\n",
              "      <th>40</th>\n",
              "      <td>2010</td>\n",
              "      <td>16639.188288</td>\n",
              "    </tr>\n",
              "    <tr>\n",
              "      <th>41</th>\n",
              "      <td>2011</td>\n",
              "      <td>15154.594638</td>\n",
              "    </tr>\n",
              "    <tr>\n",
              "      <th>42</th>\n",
              "      <td>2012</td>\n",
              "      <td>15475.036601</td>\n",
              "    </tr>\n",
              "    <tr>\n",
              "      <th>43</th>\n",
              "      <td>2013</td>\n",
              "      <td>15558.879483</td>\n",
              "    </tr>\n",
              "  </tbody>\n",
              "</table>\n",
              "</div>"
            ],
            "text/plain": [
              "    year      emission\n",
              "0   1970   9364.885108\n",
              "1   1971   9428.869413\n",
              "2   1972   9906.575269\n",
              "3   1973  10588.072747\n",
              "4   1974  10748.312454\n",
              "5   1975  10993.691658\n",
              "6   1976  11562.936428\n",
              "7   1977  11957.581967\n",
              "8   1978  12595.319291\n",
              "9   1979  11195.747970\n",
              "10  1980  11154.882730\n",
              "11  1981  10912.037757\n",
              "12  1982  10948.044063\n",
              "13  1983  11108.079652\n",
              "14  1984   9622.346415\n",
              "15  1985   9795.357594\n",
              "16  1986   9986.820984\n",
              "17  1987  10288.818591\n",
              "18  1988  10574.616417\n",
              "19  1989  10757.753083\n",
              "20  1990  10778.572886\n",
              "21  1991  10842.718686\n",
              "22  1992  10727.909381\n",
              "23  1993  10735.137021\n",
              "24  1994  12683.570724\n",
              "25  1995  12892.217031\n",
              "26  1996  13178.956535\n",
              "27  1997  13229.268286\n",
              "28  1998  13165.912117\n",
              "29  1999  13358.579946\n",
              "30  2000  13727.334488\n",
              "31  2001  13938.505240\n",
              "32  2002  14100.210768\n",
              "33  2003  14567.794456\n",
              "34  2004  14916.359887\n",
              "35  2005  15182.129861\n",
              "36  2006  15571.715755\n",
              "37  2007  15999.633159\n",
              "38  2008  16232.611682\n",
              "39  2009  15884.525374\n",
              "40  2010  16639.188288\n",
              "41  2011  15154.594638\n",
              "42  2012  15475.036601\n",
              "43  2013  15558.879483"
            ]
          },
          "execution_count": 40,
          "metadata": {},
          "output_type": "execute_result"
        }
      ],
      "source": [
        "# Creating a dataframe of years and their total emissions\n",
        "df_ts = df_c.groupby('year')['emission'].sum().reset_index()\n",
        "df_ts"
      ]
    },
    {
      "cell_type": "code",
      "execution_count": null,
      "id": "8b9a5bd1",
      "metadata": {
        "scrolled": false,
        "id": "8b9a5bd1",
        "outputId": "b013bbc1-7f44-4af3-ee0c-58e174fd2d62"
      },
      "outputs": [
        {
          "name": "stdout",
          "output_type": "stream",
          "text": [
            "Mean Squared Error: 576491.0854831601\n",
            "R-squared: 0.8417058390254051\n"
          ]
        },
        {
          "data": {
            "image/png": "[encoded data removed]",
            "text/plain": [
              "<Figure size 432x288 with 1 Axes>"
            ]
          },
          "metadata": {
            "needs_background": "light"
          },
          "output_type": "display_data"
        }
      ],
      "source": [
        "# linear regression to predict future emissions\n",
        "lin_reg(df_ts, 'year')"
      ]
    },
    {
      "cell_type": "code",
      "execution_count": null,
      "id": "e8a38486",
      "metadata": {
        "id": "e8a38486",
        "outputId": "92d6b782-f5d6-45ef-ad22-ec9b32bb3e59"
      },
      "outputs": [
        {
          "data": {
            "text/html": [
              "<div>\n",
              "<style scoped>\n",
              "    .dataframe tbody tr th:only-of-type {\n",
              "        vertical-align: middle;\n",
              "    }\n",
              "\n",
              "    .dataframe tbody tr th {\n",
              "        vertical-align: top;\n",
              "    }\n",
              "\n",
              "    .dataframe thead th {\n",
              "        text-align: right;\n",
              "    }\n",
              "</style>\n",
              "<table border=\"1\" class=\"dataframe\">\n",
              "  <thead>\n",
              "    <tr style=\"text-align: right;\">\n",
              "      <th></th>\n",
              "      <th>year</th>\n",
              "      <th>emission</th>\n",
              "    </tr>\n",
              "  </thead>\n",
              "  <tbody>\n",
              "    <tr>\n",
              "      <th>0</th>\n",
              "      <td>2020</td>\n",
              "      <td>16554.693711</td>\n",
              "    </tr>\n",
              "    <tr>\n",
              "      <th>1</th>\n",
              "      <td>2021</td>\n",
              "      <td>16702.074754</td>\n",
              "    </tr>\n",
              "    <tr>\n",
              "      <th>2</th>\n",
              "      <td>2022</td>\n",
              "      <td>16849.455797</td>\n",
              "    </tr>\n",
              "    <tr>\n",
              "      <th>3</th>\n",
              "      <td>2023</td>\n",
              "      <td>16996.836840</td>\n",
              "    </tr>\n",
              "    <tr>\n",
              "      <th>4</th>\n",
              "      <td>2024</td>\n",
              "      <td>17144.217883</td>\n",
              "    </tr>\n",
              "    <tr>\n",
              "      <th>5</th>\n",
              "      <td>2025</td>\n",
              "      <td>17291.598927</td>\n",
              "    </tr>\n",
              "    <tr>\n",
              "      <th>6</th>\n",
              "      <td>2026</td>\n",
              "      <td>17438.979970</td>\n",
              "    </tr>\n",
              "    <tr>\n",
              "      <th>7</th>\n",
              "      <td>2027</td>\n",
              "      <td>17586.361013</td>\n",
              "    </tr>\n",
              "    <tr>\n",
              "      <th>8</th>\n",
              "      <td>2028</td>\n",
              "      <td>17733.742056</td>\n",
              "    </tr>\n",
              "    <tr>\n",
              "      <th>9</th>\n",
              "      <td>2029</td>\n",
              "      <td>17881.123099</td>\n",
              "    </tr>\n",
              "    <tr>\n",
              "      <th>10</th>\n",
              "      <td>2030</td>\n",
              "      <td>18028.504142</td>\n",
              "    </tr>\n",
              "    <tr>\n",
              "      <th>11</th>\n",
              "      <td>2031</td>\n",
              "      <td>18175.885185</td>\n",
              "    </tr>\n",
              "    <tr>\n",
              "      <th>12</th>\n",
              "      <td>2032</td>\n",
              "      <td>18323.266228</td>\n",
              "    </tr>\n",
              "    <tr>\n",
              "      <th>13</th>\n",
              "      <td>2033</td>\n",
              "      <td>18470.647271</td>\n",
              "    </tr>\n",
              "    <tr>\n",
              "      <th>14</th>\n",
              "      <td>2034</td>\n",
              "      <td>18618.028315</td>\n",
              "    </tr>\n",
              "    <tr>\n",
              "      <th>15</th>\n",
              "      <td>2035</td>\n",
              "      <td>18765.409358</td>\n",
              "    </tr>\n",
              "    <tr>\n",
              "      <th>16</th>\n",
              "      <td>2036</td>\n",
              "      <td>18912.790401</td>\n",
              "    </tr>\n",
              "    <tr>\n",
              "      <th>17</th>\n",
              "      <td>2037</td>\n",
              "      <td>19060.171444</td>\n",
              "    </tr>\n",
              "    <tr>\n",
              "      <th>18</th>\n",
              "      <td>2038</td>\n",
              "      <td>19207.552487</td>\n",
              "    </tr>\n",
              "    <tr>\n",
              "      <th>19</th>\n",
              "      <td>2039</td>\n",
              "      <td>19354.933530</td>\n",
              "    </tr>\n",
              "    <tr>\n",
              "      <th>20</th>\n",
              "      <td>2040</td>\n",
              "      <td>19502.314573</td>\n",
              "    </tr>\n",
              "    <tr>\n",
              "      <th>21</th>\n",
              "      <td>2041</td>\n",
              "      <td>19649.695616</td>\n",
              "    </tr>\n",
              "    <tr>\n",
              "      <th>22</th>\n",
              "      <td>2042</td>\n",
              "      <td>19797.076659</td>\n",
              "    </tr>\n",
              "    <tr>\n",
              "      <th>23</th>\n",
              "      <td>2043</td>\n",
              "      <td>19944.457702</td>\n",
              "    </tr>\n",
              "    <tr>\n",
              "      <th>24</th>\n",
              "      <td>2044</td>\n",
              "      <td>20091.838746</td>\n",
              "    </tr>\n",
              "    <tr>\n",
              "      <th>25</th>\n",
              "      <td>2045</td>\n",
              "      <td>20239.219789</td>\n",
              "    </tr>\n",
              "    <tr>\n",
              "      <th>26</th>\n",
              "      <td>2046</td>\n",
              "      <td>20386.600832</td>\n",
              "    </tr>\n",
              "    <tr>\n",
              "      <th>27</th>\n",
              "      <td>2047</td>\n",
              "      <td>20533.981875</td>\n",
              "    </tr>\n",
              "    <tr>\n",
              "      <th>28</th>\n",
              "      <td>2048</td>\n",
              "      <td>20681.362918</td>\n",
              "    </tr>\n",
              "    <tr>\n",
              "      <th>29</th>\n",
              "      <td>2049</td>\n",
              "      <td>20828.743961</td>\n",
              "    </tr>\n",
              "    <tr>\n",
              "      <th>30</th>\n",
              "      <td>2050</td>\n",
              "      <td>20976.125004</td>\n",
              "    </tr>\n",
              "  </tbody>\n",
              "</table>\n",
              "</div>"
            ],
            "text/plain": [
              "    year      emission\n",
              "0   2020  16554.693711\n",
              "1   2021  16702.074754\n",
              "2   2022  16849.455797\n",
              "3   2023  16996.836840\n",
              "4   2024  17144.217883\n",
              "5   2025  17291.598927\n",
              "6   2026  17438.979970\n",
              "7   2027  17586.361013\n",
              "8   2028  17733.742056\n",
              "9   2029  17881.123099\n",
              "10  2030  18028.504142\n",
              "11  2031  18175.885185\n",
              "12  2032  18323.266228\n",
              "13  2033  18470.647271\n",
              "14  2034  18618.028315\n",
              "15  2035  18765.409358\n",
              "16  2036  18912.790401\n",
              "17  2037  19060.171444\n",
              "18  2038  19207.552487\n",
              "19  2039  19354.933530\n",
              "20  2040  19502.314573\n",
              "21  2041  19649.695616\n",
              "22  2042  19797.076659\n",
              "23  2043  19944.457702\n",
              "24  2044  20091.838746\n",
              "25  2045  20239.219789\n",
              "26  2046  20386.600832\n",
              "27  2047  20533.981875\n",
              "28  2048  20681.362918\n",
              "29  2049  20828.743961\n",
              "30  2050  20976.125004"
            ]
          },
          "execution_count": 42,
          "metadata": {},
          "output_type": "execute_result"
        }
      ],
      "source": [
        "# A dataframe contains prediction of emissions of future years\n",
        "future = pd.DataFrame({'year' :list(range(2020, 2051))})\n",
        "x = df_ts['year'].values.reshape(-1, 1)\n",
        "y = df_ts['emission'].values\n",
        "X_train, X_test, y_train, y_test = train_test_split(x, y, test_size=0.2, random_state=0)\n",
        "mdl = LinearRegression()\n",
        "mdl.fit(X_train, y_train)\n",
        "future_pred = mdl.predict(future)\n",
        "result = pd.DataFrame({\n",
        "    'year': future['year'],\n",
        "    'emission': future_pred\n",
        "})\n",
        "result"
      ]
    },
    {
      "cell_type": "markdown",
      "id": "06dc708c",
      "metadata": {
        "id": "06dc708c"
      },
      "source": [
        "## Time series analysis"
      ]
    },
    {
      "cell_type": "code",
      "execution_count": null,
      "id": "ae9a47da",
      "metadata": {
        "scrolled": true,
        "id": "ae9a47da",
        "outputId": "43d0a8cc-df62-48f9-c25d-b526b9b3b496"
      },
      "outputs": [
        {
          "data": {
            "image/png": "[encoded data removed]",
            "text/plain": [
              "<Figure size 432x288 with 1 Axes>"
            ]
          },
          "metadata": {
            "needs_background": "light"
          },
          "output_type": "display_data"
        }
      ],
      "source": [
        "# Creating a time series chart showing total CO2 emissions over time\n",
        "df_c.groupby('year')['emission'].sum().plot()\n",
        "plt.title('Total Co2 Emission over time')\n",
        "plt.ylabel('emission')\n",
        "plt.show()"
      ]
    },
    {
      "cell_type": "code",
      "execution_count": null,
      "id": "983149a6",
      "metadata": {
        "id": "983149a6",
        "outputId": "4c1183a2-3e19-4e10-943e-51944b1f8944"
      },
      "outputs": [
        {
          "data": {
            "image/png": "[encoded data removed]",
            "text/plain": [
              "<Figure size 432x288 with 1 Axes>"
            ]
          },
          "metadata": {
            "needs_background": "light"
          },
          "output_type": "display_data"
        }
      ],
      "source": [
        "# Creating a time series chart showing Variance of temperatures over time\n",
        "df_c.groupby('year')['variance_temp'].mean().plot()\n",
        "plt.title('Average variance of temperature over time')\n",
        "plt.ylabel('Variance of temperature')\n",
        "plt.show()"
      ]
    },
    {
      "cell_type": "code",
      "execution_count": null,
      "id": "0e741329",
      "metadata": {
        "scrolled": false,
        "id": "0e741329",
        "outputId": "09ff2432-9988-43b0-e3c7-8bcca6d5e95b"
      },
      "outputs": [
        {
          "data": {
            "image/png": "[encoded data removed]",
            "text/plain": [
              "<Figure size 432x288 with 1 Axes>"
            ]
          },
          "metadata": {
            "needs_background": "light"
          },
          "output_type": "display_data"
        }
      ],
      "source": [
        "# Creating a time series chart showing average temperature over time\n",
        "df_c.groupby('year')['mean_temp'].mean().plot()\n",
        "plt.title('Average temperature over time')\n",
        "plt.ylabel('Average Temperature')\n",
        "plt.show()"
      ]
    },
    {
      "cell_type": "code",
      "execution_count": null,
      "id": "837ca4cd",
      "metadata": {
        "id": "837ca4cd"
      },
      "outputs": [],
      "source": [
        "df_c.to_csv('co2_data.csv')"
      ]
    },
    {
      "cell_type": "markdown",
      "id": "ad019102",
      "metadata": {
        "id": "ad019102"
      },
      "source": [
        "## CO2 Emission Per Sector Analysis"
      ]
    },
    {
      "cell_type": "code",
      "execution_count": null,
      "id": "d1c7708b",
      "metadata": {
        "id": "d1c7708b"
      },
      "outputs": [],
      "source": [
        "# creating a copy of data\n",
        "df_cs = co2_by_sector_df.copy()"
      ]
    },
    {
      "cell_type": "markdown",
      "id": "3343a0c7",
      "metadata": {
        "id": "3343a0c7"
      },
      "source": [
        "#### Removing outliers"
      ]
    },
    {
      "cell_type": "code",
      "execution_count": null,
      "id": "a250b5e6",
      "metadata": {
        "id": "a250b5e6"
      },
      "outputs": [],
      "source": [
        "# Creating a for loop which identifies the index od outliers and create a list of outlier indexes\n",
        "for i in num_feat:\n",
        "  indeces_cs = []                                              # creating a empty list\n",
        "  x = df_cs[i]\n",
        "  mean = df_cs[i].mean()\n",
        "  std = df_cs[i].std()\n",
        "  index = df_cs[(np.abs(x)) - (mean) >= (3 * std)].index     # getting the index of outlier\n",
        "  indeces_cs.append(index)"
      ]
    },
    {
      "cell_type": "code",
      "execution_count": null,
      "id": "bbc8fa71",
      "metadata": {
        "id": "bbc8fa71"
      },
      "outputs": [],
      "source": [
        "# Removing outliers\n",
        "df_cs.drop(list(indeces_cs)[0] , inplace = True)"
      ]
    },
    {
      "cell_type": "markdown",
      "id": "cd2c1e7b",
      "metadata": {
        "id": "cd2c1e7b"
      },
      "source": [
        "#### Average emissions per sector"
      ]
    },
    {
      "cell_type": "code",
      "execution_count": null,
      "id": "c79678df",
      "metadata": {
        "id": "c79678df",
        "outputId": "a729dafb-e6e2-4eb2-9e1d-09831b45940c"
      },
      "outputs": [
        {
          "data": {
            "image/png": "[encoded data removed]",
            "text/plain": [
              "<Figure size 1080x504 with 1 Axes>"
            ]
          },
          "metadata": {
            "needs_background": "light"
          },
          "output_type": "display_data"
        }
      ],
      "source": [
        "# Creating a bar chart showing Average emissions sector wise\n",
        "sec = df_cs.groupby('Sector')['emission'].mean().sort_values().reset_index()\n",
        "plt.figure(figsize = (15,7))\n",
        "plt.barh(sec['Sector'], sec['emission'])\n",
        "plt.title('Average emissions per sector')\n",
        "plt.xlabel('CO2 Emission')\n",
        "plt.ylabel('Sector')\n",
        "plt.show()"
      ]
    },
    {
      "cell_type": "markdown",
      "id": "a31f9d74",
      "metadata": {
        "id": "a31f9d74"
      },
      "source": [
        "## CO2 emissions per captia analysis"
      ]
    },
    {
      "cell_type": "code",
      "execution_count": null,
      "id": "313ce64f",
      "metadata": {
        "id": "313ce64f"
      },
      "outputs": [],
      "source": [
        "# Creating a copy of dataframe\n",
        "df_cp = co2_per_captia_df.copy()"
      ]
    },
    {
      "cell_type": "markdown",
      "id": "41307ea9",
      "metadata": {
        "id": "41307ea9"
      },
      "source": [
        "#### Removing outliers"
      ]
    },
    {
      "cell_type": "code",
      "execution_count": null,
      "id": "a4d8ded6",
      "metadata": {
        "id": "a4d8ded6"
      },
      "outputs": [],
      "source": [
        "# Creating a for loop which identifies the index od outliers and create a list of outlier indexes\n",
        "for i in num_feat:\n",
        "  indeces_cp = []                                              # creating a empty list\n",
        "  x = df_cp[i]\n",
        "  mean = df_cp[i].mean()\n",
        "  std = df_cp[i].std()\n",
        "  index = df_cp[(np.abs(x)) - (mean) >= (3 * std)].index     # getting the index of outlier\n",
        "  indeces_cp.append(index)"
      ]
    },
    {
      "cell_type": "code",
      "execution_count": null,
      "id": "e9533522",
      "metadata": {
        "id": "e9533522"
      },
      "outputs": [],
      "source": [
        "# Removing outliers\n",
        "df_cp.drop(list(indeces_cp)[0] , inplace = True)"
      ]
    },
    {
      "cell_type": "markdown",
      "id": "0fceba04",
      "metadata": {
        "id": "0fceba04"
      },
      "source": [
        "#### Top 10 countries with high emissions per captia"
      ]
    },
    {
      "cell_type": "code",
      "execution_count": null,
      "id": "6be2af03",
      "metadata": {
        "scrolled": true,
        "id": "6be2af03",
        "outputId": "dada7473-a3f5-4228-f874-cbee21d52c32"
      },
      "outputs": [
        {
          "data": {
            "image/png": "[encoded data removed]",
            "text/plain": [
              "<Figure size 1080x504 with 1 Axes>"
            ]
          },
          "metadata": {
            "needs_background": "light"
          },
          "output_type": "display_data"
        }
      ],
      "source": [
        "# Creating a bar chart showing the top 10 countries with high co2 emissions per captia\n",
        "per_captia = df_cp.groupby('Country')['emission'].mean().reset_index().sort_values(by = 'emission', ascending = False)[0:10]\n",
        "plt.figure(figsize = (15,7))\n",
        "plt.barh(per_captia['Country'][::-1], per_captia['emission'][::-1])\n",
        "plt.title('Top 10 countries with high emissions per captia')\n",
        "plt.xlabel('CO2 Emission per captia')\n",
        "plt.ylabel('Country')\n",
        "plt.show()"
      ]
    },
    {
      "cell_type": "markdown",
      "id": "32b5882c",
      "metadata": {
        "id": "32b5882c"
      },
      "source": [
        "#### Correlation between CO2 emissions per captia and temperature variables"
      ]
    },
    {
      "cell_type": "code",
      "execution_count": null,
      "id": "0285f82c",
      "metadata": {
        "scrolled": true,
        "id": "0285f82c",
        "outputId": "fbdee036-f3f2-42bd-e3df-d32f5041d11a"
      },
      "outputs": [
        {
          "data": {
            "image/png": "[encoded data removed]",
            "text/plain": [
              "<Figure size 432x288 with 2 Axes>"
            ]
          },
          "metadata": {
            "needs_background": "light"
          },
          "output_type": "display_data"
        }
      ],
      "source": [
        "# Creating a correlation heatmap\n",
        "sns.heatmap(df_cp[['emission', 'variance_temp', 'mean_temp']].corr(), annot = True)\n",
        "plt.title('Correlation heatmap')\n",
        "plt.show()"
      ]
    },
    {
      "cell_type": "markdown",
      "id": "6d7a0bb4",
      "metadata": {
        "id": "6d7a0bb4"
      },
      "source": [
        "### Total Green House Gases emission analysis\n"
      ]
    },
    {
      "cell_type": "code",
      "execution_count": null,
      "id": "c71ced55",
      "metadata": {
        "id": "c71ced55"
      },
      "outputs": [],
      "source": [
        "# Creating a copy of dataframe\n",
        "ghg_df = ghg_total_df.copy()"
      ]
    },
    {
      "cell_type": "code",
      "execution_count": null,
      "id": "a9d95917",
      "metadata": {
        "scrolled": true,
        "id": "a9d95917",
        "outputId": "705b6906-9411-40e0-dd6e-073101dfbde7"
      },
      "outputs": [
        {
          "name": "stdout",
          "output_type": "stream",
          "text": [
            "Descriptive Statistics of emission\n"
          ]
        },
        {
          "data": {
            "text/html": [
              "<div>\n",
              "<style scoped>\n",
              "    .dataframe tbody tr th:only-of-type {\n",
              "        vertical-align: middle;\n",
              "    }\n",
              "\n",
              "    .dataframe tbody tr th {\n",
              "        vertical-align: top;\n",
              "    }\n",
              "\n",
              "    .dataframe thead th {\n",
              "        text-align: right;\n",
              "    }\n",
              "</style>\n",
              "<table border=\"1\" class=\"dataframe\">\n",
              "  <thead>\n",
              "    <tr style=\"text-align: right;\">\n",
              "      <th></th>\n",
              "      <th>index</th>\n",
              "      <th>emission</th>\n",
              "    </tr>\n",
              "  </thead>\n",
              "  <tbody>\n",
              "    <tr>\n",
              "      <th>0</th>\n",
              "      <td>count</td>\n",
              "      <td>7568.000000</td>\n",
              "    </tr>\n",
              "    <tr>\n",
              "      <th>1</th>\n",
              "      <td>mean</td>\n",
              "      <td>181.221937</td>\n",
              "    </tr>\n",
              "    <tr>\n",
              "      <th>2</th>\n",
              "      <td>std</td>\n",
              "      <td>719.249990</td>\n",
              "    </tr>\n",
              "    <tr>\n",
              "      <th>3</th>\n",
              "      <td>min</td>\n",
              "      <td>0.003847</td>\n",
              "    </tr>\n",
              "    <tr>\n",
              "      <th>4</th>\n",
              "      <td>25%</td>\n",
              "      <td>4.943478</td>\n",
              "    </tr>\n",
              "    <tr>\n",
              "      <th>5</th>\n",
              "      <td>50%</td>\n",
              "      <td>22.674108</td>\n",
              "    </tr>\n",
              "    <tr>\n",
              "      <th>6</th>\n",
              "      <td>75%</td>\n",
              "      <td>86.397379</td>\n",
              "    </tr>\n",
              "    <tr>\n",
              "      <th>7</th>\n",
              "      <td>max</td>\n",
              "      <td>13222.846036</td>\n",
              "    </tr>\n",
              "  </tbody>\n",
              "</table>\n",
              "</div>"
            ],
            "text/plain": [
              "   index      emission\n",
              "0  count   7568.000000\n",
              "1   mean    181.221937\n",
              "2    std    719.249990\n",
              "3    min      0.003847\n",
              "4    25%      4.943478\n",
              "5    50%     22.674108\n",
              "6    75%     86.397379\n",
              "7    max  13222.846036"
            ]
          },
          "execution_count": 57,
          "metadata": {},
          "output_type": "execute_result"
        }
      ],
      "source": [
        "# Descriptive Statistics of green house gases emission\n",
        "desc_stats(ghg_df, 'emission')"
      ]
    },
    {
      "cell_type": "code",
      "execution_count": null,
      "id": "b8dfd1d8",
      "metadata": {
        "scrolled": false,
        "id": "b8dfd1d8",
        "outputId": "2651af18-594e-48f2-c75c-c1e3927f84f3"
      },
      "outputs": [
        {
          "data": {
            "image/png": "[encoded data removed]",
            "text/plain": [
              "<Figure size 432x288 with 1 Axes>"
            ]
          },
          "metadata": {
            "needs_background": "light"
          },
          "output_type": "display_data"
        }
      ],
      "source": [
        "# Distribution plot of green house gases emission\n",
        "dist_plots(ghg_df, 'emission')"
      ]
    },
    {
      "cell_type": "markdown",
      "id": "2dd50453",
      "metadata": {
        "id": "2dd50453"
      },
      "source": [
        "### Top 10 countries with high Green House Gases emissions"
      ]
    },
    {
      "cell_type": "code",
      "execution_count": null,
      "id": "5a16d7af",
      "metadata": {
        "scrolled": true,
        "id": "5a16d7af",
        "outputId": "7f3e0982-5d0a-4583-b14b-dffda0c66ab9"
      },
      "outputs": [
        {
          "data": {
            "image/png": "[encoded data removed]",
            "text/plain": [
              "<Figure size 1224x504 with 1 Axes>"
            ]
          },
          "metadata": {
            "needs_background": "light"
          },
          "output_type": "display_data"
        }
      ],
      "source": [
        "# Creating a bar chart showing top 10 countries with high green house gases emissions\n",
        "plt.figure(figsize = (17,7))\n",
        "top_df_g = ghg_df.groupby('Country')['emission'].sum().reset_index()\n",
        "top_10_g = top_df_g.sort_values(by = 'emission', ascending = False)[0:10]\n",
        "plt.bar(top_10_g['Country'], top_10_g['emission'])\n",
        "plt.title('Top 10 countries with high Greenhouse gases emission')\n",
        "plt.xlabel('Country')\n",
        "plt.ylabel('GHG Emission')\n",
        "plt.show()"
      ]
    },
    {
      "cell_type": "markdown",
      "id": "77d83cef",
      "metadata": {
        "id": "77d83cef"
      },
      "source": [
        "## Correlation Analysis"
      ]
    },
    {
      "cell_type": "code",
      "execution_count": null,
      "id": "1a5fb3d6",
      "metadata": {
        "id": "1a5fb3d6",
        "outputId": "0c1481cf-b412-41f5-9cab-1d25c9d5ed0d"
      },
      "outputs": [
        {
          "data": {
            "image/png": "[encoded data removed]",
            "text/plain": [
              "<Figure size 432x288 with 2 Axes>"
            ]
          },
          "metadata": {
            "needs_background": "light"
          },
          "output_type": "display_data"
        }
      ],
      "source": [
        "# Correlation analysis\n",
        "sns.heatmap(ghg_df[['mean_temp', 'variance_temp', 'emission']].corr(), annot = True)\n",
        "plt.title('Correlation heatmap')\n",
        "plt.show()"
      ]
    },
    {
      "cell_type": "markdown",
      "id": "f985bd8c",
      "metadata": {
        "id": "f985bd8c"
      },
      "source": [
        "## Regression Analysis"
      ]
    },
    {
      "cell_type": "code",
      "execution_count": null,
      "id": "8280dc7a",
      "metadata": {
        "id": "8280dc7a"
      },
      "outputs": [],
      "source": [
        "# Creating a function which performs regression analysis\n",
        "from sklearn.linear_model import LinearRegression\n",
        "from sklearn.model_selection import train_test_split\n",
        "from sklearn.metrics import mean_squared_error, r2_score\n",
        "\n",
        "def lin_reg(data, input_feat):\n",
        "    x = data[input_feat].values.reshape(-1, 1)\n",
        "    y = data['emission'].values\n",
        "    X_train, X_test, y_train, y_test = train_test_split(x, y, test_size=0.2, random_state=0)\n",
        "    regressor = LinearRegression()\n",
        "    regressor.fit(X_train, y_train)\n",
        "    y_pred = regressor.predict(X_test)\n",
        "    mse = mean_squared_error(y_test, y_pred)\n",
        "    print('Mean Squared Error:', mse)\n",
        "\n",
        "    # Calculate R-squared\n",
        "    r2 = r2_score(y_test, y_pred)\n",
        "    print('R-squared:', r2)\n",
        "    y_pred1 = regressor.predict(x)\n",
        "\n",
        "    plt.scatter(x, y)\n",
        "    plt.plot(x, y_pred1, color='red')\n",
        "    plt.title(f'{input_feat} vs GHG Emission')\n",
        "    plt.xlabel(f'{input_feat}')\n",
        "    plt.ylabel('GHG Emission')\n",
        "    plt.show()"
      ]
    },
    {
      "cell_type": "code",
      "execution_count": null,
      "id": "2db50763",
      "metadata": {
        "id": "2db50763",
        "outputId": "cb7cb624-fbc7-4603-84c1-5168991bb4da"
      },
      "outputs": [
        {
          "name": "stdout",
          "output_type": "stream",
          "text": [
            "Mean Squared Error: 365326.92547140154\n",
            "R-squared: 0.0815508951389412\n"
          ]
        },
        {
          "data": {
            "image/png": "[encoded data removed]",
            "text/plain": [
              "<Figure size 432x288 with 1 Axes>"
            ]
          },
          "metadata": {
            "needs_background": "light"
          },
          "output_type": "display_data"
        }
      ],
      "source": [
        "# Regression analysis between variance of temperature and green house gases emissions\n",
        "lin_reg(ghg_df, 'variance_temp')"
      ]
    },
    {
      "cell_type": "code",
      "execution_count": null,
      "id": "90d777cc",
      "metadata": {
        "scrolled": true,
        "id": "90d777cc",
        "outputId": "9f4ad7c0-b10b-4f00-dd60-35bdb662b51e"
      },
      "outputs": [
        {
          "name": "stdout",
          "output_type": "stream",
          "text": [
            "Mean Squared Error: 379627.3876834972\n",
            "R-squared: 0.04559885929912222\n"
          ]
        },
        {
          "data": {
            "image/png": "[encoded data removed]",
            "text/plain": [
              "<Figure size 432x288 with 1 Axes>"
            ]
          },
          "metadata": {
            "needs_background": "light"
          },
          "output_type": "display_data"
        }
      ],
      "source": [
        "# Regression analysis between average temperature and green house gas emissions\n",
        "lin_reg(ghg_df, 'mean_temp')"
      ]
    },
    {
      "cell_type": "markdown",
      "id": "a3599efe",
      "metadata": {
        "id": "a3599efe"
      },
      "source": [
        "### Predicting future green house gases emissions"
      ]
    },
    {
      "cell_type": "code",
      "execution_count": null,
      "id": "72321369",
      "metadata": {
        "scrolled": true,
        "id": "72321369",
        "outputId": "5fe4d371-5d21-497a-ecaa-9ecea8031485"
      },
      "outputs": [
        {
          "data": {
            "text/html": [
              "<div>\n",
              "<style scoped>\n",
              "    .dataframe tbody tr th:only-of-type {\n",
              "        vertical-align: middle;\n",
              "    }\n",
              "\n",
              "    .dataframe tbody tr th {\n",
              "        vertical-align: top;\n",
              "    }\n",
              "\n",
              "    .dataframe thead th {\n",
              "        text-align: right;\n",
              "    }\n",
              "</style>\n",
              "<table border=\"1\" class=\"dataframe\">\n",
              "  <thead>\n",
              "    <tr style=\"text-align: right;\">\n",
              "      <th></th>\n",
              "      <th>year</th>\n",
              "      <th>emission</th>\n",
              "    </tr>\n",
              "  </thead>\n",
              "  <tbody>\n",
              "    <tr>\n",
              "      <th>0</th>\n",
              "      <td>1970</td>\n",
              "      <td>21295.685950</td>\n",
              "    </tr>\n",
              "    <tr>\n",
              "      <th>1</th>\n",
              "      <td>1971</td>\n",
              "      <td>21326.261867</td>\n",
              "    </tr>\n",
              "    <tr>\n",
              "      <th>2</th>\n",
              "      <td>1972</td>\n",
              "      <td>22166.971420</td>\n",
              "    </tr>\n",
              "    <tr>\n",
              "      <th>3</th>\n",
              "      <td>1973</td>\n",
              "      <td>23229.309909</td>\n",
              "    </tr>\n",
              "    <tr>\n",
              "      <th>4</th>\n",
              "      <td>1974</td>\n",
              "      <td>23311.165332</td>\n",
              "    </tr>\n",
              "    <tr>\n",
              "      <th>5</th>\n",
              "      <td>1975</td>\n",
              "      <td>23423.593165</td>\n",
              "    </tr>\n",
              "    <tr>\n",
              "      <th>6</th>\n",
              "      <td>1976</td>\n",
              "      <td>24454.213938</td>\n",
              "    </tr>\n",
              "    <tr>\n",
              "      <th>7</th>\n",
              "      <td>1977</td>\n",
              "      <td>25117.997508</td>\n",
              "    </tr>\n",
              "    <tr>\n",
              "      <th>8</th>\n",
              "      <td>1978</td>\n",
              "      <td>25831.149971</td>\n",
              "    </tr>\n",
              "    <tr>\n",
              "      <th>9</th>\n",
              "      <td>1979</td>\n",
              "      <td>26464.930449</td>\n",
              "    </tr>\n",
              "    <tr>\n",
              "      <th>10</th>\n",
              "      <td>1980</td>\n",
              "      <td>26216.134983</td>\n",
              "    </tr>\n",
              "    <tr>\n",
              "      <th>11</th>\n",
              "      <td>1981</td>\n",
              "      <td>25820.276434</td>\n",
              "    </tr>\n",
              "    <tr>\n",
              "      <th>12</th>\n",
              "      <td>1982</td>\n",
              "      <td>25645.448949</td>\n",
              "    </tr>\n",
              "    <tr>\n",
              "      <th>13</th>\n",
              "      <td>1983</td>\n",
              "      <td>25857.200471</td>\n",
              "    </tr>\n",
              "    <tr>\n",
              "      <th>14</th>\n",
              "      <td>1984</td>\n",
              "      <td>26610.339362</td>\n",
              "    </tr>\n",
              "    <tr>\n",
              "      <th>15</th>\n",
              "      <td>1985</td>\n",
              "      <td>26915.845872</td>\n",
              "    </tr>\n",
              "    <tr>\n",
              "      <th>16</th>\n",
              "      <td>1986</td>\n",
              "      <td>27340.851226</td>\n",
              "    </tr>\n",
              "    <tr>\n",
              "      <th>17</th>\n",
              "      <td>1987</td>\n",
              "      <td>28058.982505</td>\n",
              "    </tr>\n",
              "    <tr>\n",
              "      <th>18</th>\n",
              "      <td>1988</td>\n",
              "      <td>28952.348029</td>\n",
              "    </tr>\n",
              "    <tr>\n",
              "      <th>19</th>\n",
              "      <td>1989</td>\n",
              "      <td>29460.346995</td>\n",
              "    </tr>\n",
              "    <tr>\n",
              "      <th>20</th>\n",
              "      <td>1990</td>\n",
              "      <td>30005.801892</td>\n",
              "    </tr>\n",
              "    <tr>\n",
              "      <th>21</th>\n",
              "      <td>1991</td>\n",
              "      <td>30091.300271</td>\n",
              "    </tr>\n",
              "    <tr>\n",
              "      <th>22</th>\n",
              "      <td>1992</td>\n",
              "      <td>30036.078956</td>\n",
              "    </tr>\n",
              "    <tr>\n",
              "      <th>23</th>\n",
              "      <td>1993</td>\n",
              "      <td>30187.494420</td>\n",
              "    </tr>\n",
              "    <tr>\n",
              "      <th>24</th>\n",
              "      <td>1994</td>\n",
              "      <td>30533.381909</td>\n",
              "    </tr>\n",
              "    <tr>\n",
              "      <th>25</th>\n",
              "      <td>1995</td>\n",
              "      <td>31306.519640</td>\n",
              "    </tr>\n",
              "    <tr>\n",
              "      <th>26</th>\n",
              "      <td>1996</td>\n",
              "      <td>31864.042205</td>\n",
              "    </tr>\n",
              "    <tr>\n",
              "      <th>27</th>\n",
              "      <td>1997</td>\n",
              "      <td>32271.708855</td>\n",
              "    </tr>\n",
              "    <tr>\n",
              "      <th>28</th>\n",
              "      <td>1998</td>\n",
              "      <td>32276.110244</td>\n",
              "    </tr>\n",
              "    <tr>\n",
              "      <th>29</th>\n",
              "      <td>1999</td>\n",
              "      <td>32468.682421</td>\n",
              "    </tr>\n",
              "    <tr>\n",
              "      <th>30</th>\n",
              "      <td>2000</td>\n",
              "      <td>33372.881292</td>\n",
              "    </tr>\n",
              "    <tr>\n",
              "      <th>31</th>\n",
              "      <td>2001</td>\n",
              "      <td>33731.700905</td>\n",
              "    </tr>\n",
              "    <tr>\n",
              "      <th>32</th>\n",
              "      <td>2002</td>\n",
              "      <td>34122.962942</td>\n",
              "    </tr>\n",
              "    <tr>\n",
              "      <th>33</th>\n",
              "      <td>2003</td>\n",
              "      <td>35608.341748</td>\n",
              "    </tr>\n",
              "    <tr>\n",
              "      <th>34</th>\n",
              "      <td>2004</td>\n",
              "      <td>37109.307870</td>\n",
              "    </tr>\n",
              "    <tr>\n",
              "      <th>35</th>\n",
              "      <td>2005</td>\n",
              "      <td>38355.541053</td>\n",
              "    </tr>\n",
              "    <tr>\n",
              "      <th>36</th>\n",
              "      <td>2006</td>\n",
              "      <td>39515.728591</td>\n",
              "    </tr>\n",
              "    <tr>\n",
              "      <th>37</th>\n",
              "      <td>2007</td>\n",
              "      <td>40777.413856</td>\n",
              "    </tr>\n",
              "    <tr>\n",
              "      <th>38</th>\n",
              "      <td>2008</td>\n",
              "      <td>41128.135653</td>\n",
              "    </tr>\n",
              "    <tr>\n",
              "      <th>39</th>\n",
              "      <td>2009</td>\n",
              "      <td>40971.188659</td>\n",
              "    </tr>\n",
              "    <tr>\n",
              "      <th>40</th>\n",
              "      <td>2010</td>\n",
              "      <td>43013.663335</td>\n",
              "    </tr>\n",
              "    <tr>\n",
              "      <th>41</th>\n",
              "      <td>2011</td>\n",
              "      <td>44329.202379</td>\n",
              "    </tr>\n",
              "    <tr>\n",
              "      <th>42</th>\n",
              "      <td>2012</td>\n",
              "      <td>45117.529799</td>\n",
              "    </tr>\n",
              "    <tr>\n",
              "      <th>43</th>\n",
              "      <td>2013</td>\n",
              "      <td>45793.843975</td>\n",
              "    </tr>\n",
              "  </tbody>\n",
              "</table>\n",
              "</div>"
            ],
            "text/plain": [
              "    year      emission\n",
              "0   1970  21295.685950\n",
              "1   1971  21326.261867\n",
              "2   1972  22166.971420\n",
              "3   1973  23229.309909\n",
              "4   1974  23311.165332\n",
              "5   1975  23423.593165\n",
              "6   1976  24454.213938\n",
              "7   1977  25117.997508\n",
              "8   1978  25831.149971\n",
              "9   1979  26464.930449\n",
              "10  1980  26216.134983\n",
              "11  1981  25820.276434\n",
              "12  1982  25645.448949\n",
              "13  1983  25857.200471\n",
              "14  1984  26610.339362\n",
              "15  1985  26915.845872\n",
              "16  1986  27340.851226\n",
              "17  1987  28058.982505\n",
              "18  1988  28952.348029\n",
              "19  1989  29460.346995\n",
              "20  1990  30005.801892\n",
              "21  1991  30091.300271\n",
              "22  1992  30036.078956\n",
              "23  1993  30187.494420\n",
              "24  1994  30533.381909\n",
              "25  1995  31306.519640\n",
              "26  1996  31864.042205\n",
              "27  1997  32271.708855\n",
              "28  1998  32276.110244\n",
              "29  1999  32468.682421\n",
              "30  2000  33372.881292\n",
              "31  2001  33731.700905\n",
              "32  2002  34122.962942\n",
              "33  2003  35608.341748\n",
              "34  2004  37109.307870\n",
              "35  2005  38355.541053\n",
              "36  2006  39515.728591\n",
              "37  2007  40777.413856\n",
              "38  2008  41128.135653\n",
              "39  2009  40971.188659\n",
              "40  2010  43013.663335\n",
              "41  2011  44329.202379\n",
              "42  2012  45117.529799\n",
              "43  2013  45793.843975"
            ]
          },
          "execution_count": 64,
          "metadata": {},
          "output_type": "execute_result"
        }
      ],
      "source": [
        "# Creating a dataframe of years and their total ghg emissions\n",
        "df_ghg_ts = ghg_df.groupby('year')['emission'].sum().reset_index()\n",
        "df_ghg_ts"
      ]
    },
    {
      "cell_type": "code",
      "execution_count": null,
      "id": "f25607ea",
      "metadata": {
        "scrolled": false,
        "id": "f25607ea",
        "outputId": "1058c88a-f946-433c-d02a-a39d529d7dd7"
      },
      "outputs": [
        {
          "name": "stdout",
          "output_type": "stream",
          "text": [
            "Mean Squared Error: 2590541.7585622123\n",
            "R-squared: 0.9247331723617214\n"
          ]
        },
        {
          "data": {
            "image/png": "[encoded data removed]",
            "text/plain": [
              "<Figure size 432x288 with 1 Axes>"
            ]
          },
          "metadata": {
            "needs_background": "light"
          },
          "output_type": "display_data"
        }
      ],
      "source": [
        "# linear regression to predict future ghg emissions\n",
        "lin_reg(df_ghg_ts, 'year')"
      ]
    },
    {
      "cell_type": "code",
      "execution_count": null,
      "id": "a301ff3a",
      "metadata": {
        "id": "a301ff3a",
        "outputId": "b44d7d33-3b69-4d61-a9b9-da7328a13551"
      },
      "outputs": [
        {
          "data": {
            "text/html": [
              "<div>\n",
              "<style scoped>\n",
              "    .dataframe tbody tr th:only-of-type {\n",
              "        vertical-align: middle;\n",
              "    }\n",
              "\n",
              "    .dataframe tbody tr th {\n",
              "        vertical-align: top;\n",
              "    }\n",
              "\n",
              "    .dataframe thead th {\n",
              "        text-align: right;\n",
              "    }\n",
              "</style>\n",
              "<table border=\"1\" class=\"dataframe\">\n",
              "  <thead>\n",
              "    <tr style=\"text-align: right;\">\n",
              "      <th></th>\n",
              "      <th>year</th>\n",
              "      <th>emission</th>\n",
              "    </tr>\n",
              "  </thead>\n",
              "  <tbody>\n",
              "    <tr>\n",
              "      <th>0</th>\n",
              "      <td>2020</td>\n",
              "      <td>45822.955637</td>\n",
              "    </tr>\n",
              "    <tr>\n",
              "      <th>1</th>\n",
              "      <td>2021</td>\n",
              "      <td>46337.088357</td>\n",
              "    </tr>\n",
              "    <tr>\n",
              "      <th>2</th>\n",
              "      <td>2022</td>\n",
              "      <td>46851.221077</td>\n",
              "    </tr>\n",
              "    <tr>\n",
              "      <th>3</th>\n",
              "      <td>2023</td>\n",
              "      <td>47365.353797</td>\n",
              "    </tr>\n",
              "    <tr>\n",
              "      <th>4</th>\n",
              "      <td>2024</td>\n",
              "      <td>47879.486517</td>\n",
              "    </tr>\n",
              "    <tr>\n",
              "      <th>5</th>\n",
              "      <td>2025</td>\n",
              "      <td>48393.619237</td>\n",
              "    </tr>\n",
              "    <tr>\n",
              "      <th>6</th>\n",
              "      <td>2026</td>\n",
              "      <td>48907.751957</td>\n",
              "    </tr>\n",
              "    <tr>\n",
              "      <th>7</th>\n",
              "      <td>2027</td>\n",
              "      <td>49421.884677</td>\n",
              "    </tr>\n",
              "    <tr>\n",
              "      <th>8</th>\n",
              "      <td>2028</td>\n",
              "      <td>49936.017397</td>\n",
              "    </tr>\n",
              "    <tr>\n",
              "      <th>9</th>\n",
              "      <td>2029</td>\n",
              "      <td>50450.150116</td>\n",
              "    </tr>\n",
              "    <tr>\n",
              "      <th>10</th>\n",
              "      <td>2030</td>\n",
              "      <td>50964.282836</td>\n",
              "    </tr>\n",
              "    <tr>\n",
              "      <th>11</th>\n",
              "      <td>2031</td>\n",
              "      <td>51478.415556</td>\n",
              "    </tr>\n",
              "    <tr>\n",
              "      <th>12</th>\n",
              "      <td>2032</td>\n",
              "      <td>51992.548276</td>\n",
              "    </tr>\n",
              "    <tr>\n",
              "      <th>13</th>\n",
              "      <td>2033</td>\n",
              "      <td>52506.680996</td>\n",
              "    </tr>\n",
              "    <tr>\n",
              "      <th>14</th>\n",
              "      <td>2034</td>\n",
              "      <td>53020.813716</td>\n",
              "    </tr>\n",
              "    <tr>\n",
              "      <th>15</th>\n",
              "      <td>2035</td>\n",
              "      <td>53534.946436</td>\n",
              "    </tr>\n",
              "    <tr>\n",
              "      <th>16</th>\n",
              "      <td>2036</td>\n",
              "      <td>54049.079156</td>\n",
              "    </tr>\n",
              "    <tr>\n",
              "      <th>17</th>\n",
              "      <td>2037</td>\n",
              "      <td>54563.211876</td>\n",
              "    </tr>\n",
              "    <tr>\n",
              "      <th>18</th>\n",
              "      <td>2038</td>\n",
              "      <td>55077.344596</td>\n",
              "    </tr>\n",
              "    <tr>\n",
              "      <th>19</th>\n",
              "      <td>2039</td>\n",
              "      <td>55591.477316</td>\n",
              "    </tr>\n",
              "    <tr>\n",
              "      <th>20</th>\n",
              "      <td>2040</td>\n",
              "      <td>56105.610036</td>\n",
              "    </tr>\n",
              "    <tr>\n",
              "      <th>21</th>\n",
              "      <td>2041</td>\n",
              "      <td>56619.742756</td>\n",
              "    </tr>\n",
              "    <tr>\n",
              "      <th>22</th>\n",
              "      <td>2042</td>\n",
              "      <td>57133.875476</td>\n",
              "    </tr>\n",
              "    <tr>\n",
              "      <th>23</th>\n",
              "      <td>2043</td>\n",
              "      <td>57648.008196</td>\n",
              "    </tr>\n",
              "    <tr>\n",
              "      <th>24</th>\n",
              "      <td>2044</td>\n",
              "      <td>58162.140916</td>\n",
              "    </tr>\n",
              "    <tr>\n",
              "      <th>25</th>\n",
              "      <td>2045</td>\n",
              "      <td>58676.273636</td>\n",
              "    </tr>\n",
              "    <tr>\n",
              "      <th>26</th>\n",
              "      <td>2046</td>\n",
              "      <td>59190.406356</td>\n",
              "    </tr>\n",
              "    <tr>\n",
              "      <th>27</th>\n",
              "      <td>2047</td>\n",
              "      <td>59704.539076</td>\n",
              "    </tr>\n",
              "    <tr>\n",
              "      <th>28</th>\n",
              "      <td>2048</td>\n",
              "      <td>60218.671796</td>\n",
              "    </tr>\n",
              "    <tr>\n",
              "      <th>29</th>\n",
              "      <td>2049</td>\n",
              "      <td>60732.804515</td>\n",
              "    </tr>\n",
              "    <tr>\n",
              "      <th>30</th>\n",
              "      <td>2050</td>\n",
              "      <td>61246.937235</td>\n",
              "    </tr>\n",
              "  </tbody>\n",
              "</table>\n",
              "</div>"
            ],
            "text/plain": [
              "    year      emission\n",
              "0   2020  45822.955637\n",
              "1   2021  46337.088357\n",
              "2   2022  46851.221077\n",
              "3   2023  47365.353797\n",
              "4   2024  47879.486517\n",
              "5   2025  48393.619237\n",
              "6   2026  48907.751957\n",
              "7   2027  49421.884677\n",
              "8   2028  49936.017397\n",
              "9   2029  50450.150116\n",
              "10  2030  50964.282836\n",
              "11  2031  51478.415556\n",
              "12  2032  51992.548276\n",
              "13  2033  52506.680996\n",
              "14  2034  53020.813716\n",
              "15  2035  53534.946436\n",
              "16  2036  54049.079156\n",
              "17  2037  54563.211876\n",
              "18  2038  55077.344596\n",
              "19  2039  55591.477316\n",
              "20  2040  56105.610036\n",
              "21  2041  56619.742756\n",
              "22  2042  57133.875476\n",
              "23  2043  57648.008196\n",
              "24  2044  58162.140916\n",
              "25  2045  58676.273636\n",
              "26  2046  59190.406356\n",
              "27  2047  59704.539076\n",
              "28  2048  60218.671796\n",
              "29  2049  60732.804515\n",
              "30  2050  61246.937235"
            ]
          },
          "execution_count": 66,
          "metadata": {},
          "output_type": "execute_result"
        }
      ],
      "source": [
        "# A dataframe contains prediction of emissions of future years\n",
        "x1 = df_ghg_ts['year'].values.reshape(-1, 1)\n",
        "y1 = df_ghg_ts['emission'].values\n",
        "mdl = LinearRegression()\n",
        "mdl.fit(x1, y1)\n",
        "\n",
        "future_ghg = pd.DataFrame({'year' :list(range(2020, 2051))})\n",
        "future_ghg_pred = mdl.predict(future_ghg)\n",
        "result_ghg = pd.DataFrame({\n",
        "    'year': future_ghg['year'],\n",
        "    'emission': future_ghg_pred\n",
        "})\n",
        "result_ghg"
      ]
    },
    {
      "cell_type": "markdown",
      "id": "6a8e5085",
      "metadata": {
        "id": "6a8e5085"
      },
      "source": [
        "## Time series analysis"
      ]
    },
    {
      "cell_type": "code",
      "execution_count": null,
      "id": "229da858",
      "metadata": {
        "id": "229da858",
        "outputId": "10a3f73c-b295-49b7-d0fe-fd00c5a6e0e4"
      },
      "outputs": [
        {
          "data": {
            "image/png": "[encoded data removed]",
            "text/plain": [
              "<Figure size 432x288 with 1 Axes>"
            ]
          },
          "metadata": {
            "needs_background": "light"
          },
          "output_type": "display_data"
        }
      ],
      "source": [
        "# Creating a time series chart showing total ghg emissions over time\n",
        "ghg_df.groupby('year')['emission'].sum().plot()\n",
        "plt.title('Total ghg Emission over time')\n",
        "plt.ylabel('GHG emission')\n",
        "plt.show()"
      ]
    },
    {
      "cell_type": "markdown",
      "id": "7e0d425e",
      "metadata": {
        "id": "7e0d425e"
      },
      "source": [
        "## Total Green House Gases Emission per sector Analysis"
      ]
    },
    {
      "cell_type": "code",
      "execution_count": null,
      "id": "fe234cfa",
      "metadata": {
        "id": "fe234cfa"
      },
      "outputs": [],
      "source": [
        "# Creating copy of dataframe\n",
        "ghg_s = ghg_per_sec_df.copy()"
      ]
    },
    {
      "cell_type": "markdown",
      "id": "d5933e70",
      "metadata": {
        "id": "d5933e70"
      },
      "source": [
        "#### Average emissions per sector"
      ]
    },
    {
      "cell_type": "code",
      "execution_count": null,
      "id": "4792890c",
      "metadata": {
        "id": "4792890c",
        "outputId": "5e6b2a97-6508-4328-82a9-3106d78b3014"
      },
      "outputs": [
        {
          "data": {
            "image/png": "[encoded data removed]",
            "text/plain": [
              "<Figure size 1080x504 with 1 Axes>"
            ]
          },
          "metadata": {
            "needs_background": "light"
          },
          "output_type": "display_data"
        }
      ],
      "source": [
        "# Creating a bar chart showing Average ghg emissions sector wise\n",
        "sec = ghg_s.groupby('Sector')['emission'].mean().sort_values().reset_index()\n",
        "plt.figure(figsize = (15,7))\n",
        "plt.barh(sec['Sector'], sec['emission'])\n",
        "plt.title('Average emissions per sector')\n",
        "plt.xlabel('GHG Emission')\n",
        "plt.ylabel('Sector')\n",
        "plt.show()"
      ]
    },
    {
      "cell_type": "markdown",
      "id": "104ba5da",
      "metadata": {
        "id": "104ba5da"
      },
      "source": [
        "## GHG emissions per captia analysis"
      ]
    },
    {
      "cell_type": "code",
      "execution_count": null,
      "id": "b6c1a617",
      "metadata": {
        "id": "b6c1a617"
      },
      "outputs": [],
      "source": [
        "# Creating a copy of dataframe\n",
        "ghg_cp = ghg_per_captia_df.copy()"
      ]
    },
    {
      "cell_type": "markdown",
      "id": "d762a047",
      "metadata": {
        "id": "d762a047"
      },
      "source": [
        "#### Top 10 countries with high ghg emissions per captia"
      ]
    },
    {
      "cell_type": "code",
      "execution_count": null,
      "id": "2163634f",
      "metadata": {
        "scrolled": false,
        "id": "2163634f",
        "outputId": "60b2a5fc-e635-40f0-9155-00de99314a10"
      },
      "outputs": [
        {
          "data": {
            "image/png": "[encoded data removed]",
            "text/plain": [
              "<Figure size 1080x504 with 1 Axes>"
            ]
          },
          "metadata": {
            "needs_background": "light"
          },
          "output_type": "display_data"
        }
      ],
      "source": [
        "# Creating a bar chart showing top 10 countries with high ghg emissions per captia\n",
        "per_captia = ghg_cp.groupby('Country')['emission'].mean().reset_index().sort_values(by = 'emission', ascending = False)[0:10]\n",
        "plt.figure(figsize = (15,7))\n",
        "plt.barh(per_captia['Country'][::-1], per_captia['emission'][::-1])\n",
        "plt.title('Top 10 countries with high emissions per captia')\n",
        "plt.xlabel('GHG Emissions')\n",
        "plt.ylabel('Country')\n",
        "plt.show()"
      ]
    },
    {
      "cell_type": "markdown",
      "id": "426f2337",
      "metadata": {
        "id": "426f2337"
      },
      "source": [
        "#### Correlation between CO2 emissions per captia and temperature variables"
      ]
    },
    {
      "cell_type": "code",
      "execution_count": null,
      "id": "9d7646fa",
      "metadata": {
        "scrolled": false,
        "id": "9d7646fa",
        "outputId": "755ffdbf-3cad-4edc-aaca-276720b111e8"
      },
      "outputs": [
        {
          "data": {
            "image/png": "[encoded data removed]",
            "text/plain": [
              "<Figure size 432x288 with 2 Axes>"
            ]
          },
          "metadata": {
            "needs_background": "light"
          },
          "output_type": "display_data"
        }
      ],
      "source": [
        "# Correlation analysis\n",
        "sns.heatmap(ghg_cp[['emission', 'variance_temp', 'mean_temp']].corr(), annot = True)\n",
        "plt.title('Correlation Heatmap')\n",
        "plt.show()"
      ]
    }
  ],
  "metadata": {
    "kernelspec": {
      "display_name": "Python 3 (ipykernel)",
      "language": "python",
      "name": "python3"
    },
    "language_info": {
      "codemirror_mode": {
        "name": "ipython",
        "version": 3
      },
      "file_extension": ".py",
      "mimetype": "text/x-python",
      "name": "python",
      "nbconvert_exporter": "python",
      "pygments_lexer": "ipython3",
      "version": "3.9.7"
    },
    "colab": {
      "provenance": []
    }
  },
  "nbformat": 4,
  "nbformat_minor": 5
}